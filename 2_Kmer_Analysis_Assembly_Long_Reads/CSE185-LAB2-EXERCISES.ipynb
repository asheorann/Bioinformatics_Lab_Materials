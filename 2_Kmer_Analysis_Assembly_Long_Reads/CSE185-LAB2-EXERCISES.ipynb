{
 "cells": [
  {
   "cell_type": "markdown",
   "metadata": {
    "deletable": false,
    "editable": false,
    "nbgrader": {
     "cell_type": "markdown",
     "checksum": "547ed7f5095c3ce0dee20584bc7a66fa",
     "grade": false,
     "grade_id": "text-lab2-intro",
     "locked": true,
     "schema_version": 3,
     "solution": false
    }
   },
   "source": [
    "# Lab 2: So where do all those reference genomes come from anyway? (Sequence assembly)\n",
    "\n",
    "This week's exercises consist of two parts:\n",
    "* **Part 1 (10 pts)**: We'll derive how to estimate the size of a genome based on kmer frequencies using a toy example. In the lab, we'll do this on a real genome.\n",
    "\n",
    "* **Part 2 (10 pts)**: Review questions to test your understanding of course material.\n",
    "\n",
    "Reminder: you may work with a partner or consult your classmates or the internet for help on the lab assignments!"
   ]
  },
  {
   "cell_type": "markdown",
   "metadata": {
    "deletable": false,
    "editable": false,
    "nbgrader": {
     "cell_type": "markdown",
     "checksum": "7cdd040a4e3eca5a2a8d33b3174ae973",
     "grade": false,
     "grade_id": "text-lab2-part1",
     "locked": true,
     "schema_version": 3,
     "solution": false,
     "task": false
    }
   },
   "source": [
    "\n",
    "# Part 1: Estimating genome size\n",
    "\n",
    "## 1.1 Intro to kmer counts and coverage\n",
    "\n",
    "First, let's consider kmers originating from $N$ copies of an example genome ($G$) of length $|G|=15$."
   ]
  },
  {
   "cell_type": "code",
   "execution_count": 10,
   "metadata": {
    "deletable": false,
    "editable": false,
    "nbgrader": {
     "cell_type": "code",
     "checksum": "a24cb53c6199ccf44da2fa558643e769",
     "grade": false,
     "grade_id": "text-lab2-exgenome",
     "locked": true,
     "schema_version": 3,
     "solution": false
    }
   },
   "outputs": [],
   "source": [
    "GENOME=\"ACTCGGCGTTACGCG\""
   ]
  },
  {
   "cell_type": "markdown",
   "metadata": {
    "deletable": false,
    "editable": false,
    "nbgrader": {
     "cell_type": "markdown",
     "checksum": "2541385e201842e8e79132c8a2d876e4",
     "grade": false,
     "grade_id": "kmer-num",
     "locked": true,
     "schema_version": 3,
     "solution": false
    }
   },
   "source": [
    "**Question 1 (1 pt)**: How many unique kmers of length 7 can be generated from our genome? Set the variable `num_unique_kmers` to your answer. List the unique kmers in the variable `unique_kmer_list`."
   ]
  },
  {
   "cell_type": "code",
   "execution_count": 11,
   "metadata": {
    "deletable": false,
    "nbgrader": {
     "cell_type": "code",
     "checksum": "b3e28cca68e8f7ea7d9879a086159ea4",
     "grade": false,
     "grade_id": "kmer-num-answer",
     "locked": false,
     "schema_version": 3,
     "solution": true,
     "task": false
    }
   },
   "outputs": [],
   "source": [
    "num_unique_kmers = 9\n",
    "unique_kmer_list = [\"ACTCGGC\",\"CTCGGCG\", \"TCGGCGT\", \"CGGCGTT\", \"GGCGTTA\", \"GCGTTAC\", \"CGTTACG\", \"GTTACGC\", \"TTACGCG\"] # Replace with your answer\n"
   ]
  },
  {
   "cell_type": "code",
   "execution_count": 12,
   "metadata": {
    "deletable": false,
    "editable": false,
    "nbgrader": {
     "cell_type": "code",
     "checksum": "20ef90cf2d2d4be00d6dba41d955043d",
     "grade": true,
     "grade_id": "kmer-num-test",
     "locked": true,
     "points": 1,
     "schema_version": 3,
     "solution": false,
     "task": false
    }
   },
   "outputs": [],
   "source": [
    "assert(num_unique_kmers > 1 and num_unique_kmers < len(GENOME))\n",
    "assert(num_unique_kmers == len(unique_kmer_list))\n",
    "for val in unique_kmer_list:\n",
    "    assert(type(val)==str)\n",
    "    assert(len(val)==7)"
   ]
  },
  {
   "cell_type": "markdown",
   "metadata": {
    "deletable": false,
    "editable": false,
    "nbgrader": {
     "cell_type": "markdown",
     "checksum": "4560dabb9735616117c06f1edbff32a3",
     "grade": false,
     "grade_id": "text-kmer-genomesize",
     "locked": true,
     "schema_version": 3,
     "solution": false
    }
   },
   "source": [
    "**Question 2 (2 pts)**: What would your answer to question 1 (number of unique 7-mers) be for a genome of length 100? \n",
    "1000? 1000000?\n",
    "\n",
    "Complete the function `GetNumUniqueKmers` below to return the number of unique kmers of length $k$ for a genome of size $|G|$. Ignore the possibility that a single kmer may be seen more than once in the genome. \n",
    "\n",
    "Notice that, as the genome size gets much bigger than the kmer size, the number of total kmers forms a good approximation to the genome size."
   ]
  },
  {
   "cell_type": "code",
   "execution_count": 13,
   "metadata": {
    "deletable": false,
    "nbgrader": {
     "cell_type": "code",
     "checksum": "baeea6e1c57ccb0507417f1a63e03017",
     "grade": false,
     "grade_id": "kmer-genomeisze-answer",
     "locked": false,
     "schema_version": 3,
     "solution": true,
     "task": false
    }
   },
   "outputs": [],
   "source": [
    "def GetNumUniqueKmers(G, k):\n",
    "    \"\"\"Compute the number of unique kmers for a genome of size G\n",
    "    \n",
    "    Parameters\n",
    "    ----------\n",
    "    G : int\n",
    "       Size, in bp, of the target genome\n",
    "    k : int\n",
    "       Length of the kmer being considered\n",
    "       \n",
    "    Returns\n",
    "    -------\n",
    "    num_unique_kmers : int\n",
    "       Number of unique kmers possible\n",
    "    \"\"\"\n",
    "    num_unique_kmers = G-k+1\n",
    "    # your code here\n",
    "    return num_unique_kmers"
   ]
  },
  {
   "cell_type": "code",
   "execution_count": 14,
   "metadata": {
    "deletable": false,
    "editable": false,
    "nbgrader": {
     "cell_type": "code",
     "checksum": "7fe01d6bea25c703da0d9c68a8cfb1e5",
     "grade": true,
     "grade_id": "kmer-genomeisze-test",
     "locked": true,
     "points": 2,
     "schema_version": 3,
     "solution": false,
     "task": false
    }
   },
   "outputs": [],
   "source": [
    "assert(GetNumUniqueKmers(100, 7)==94)\n",
    "assert(GetNumUniqueKmers(1000000, 7) == 999994)"
   ]
  },
  {
   "cell_type": "markdown",
   "metadata": {
    "deletable": false,
    "editable": false,
    "nbgrader": {
     "cell_type": "markdown",
     "checksum": "9d07fb627e7c7dbb9c831d43f0e99588",
     "grade": false,
     "grade_id": "text-kmer-cov",
     "locked": true,
     "schema_version": 3,
     "solution": false
    }
   },
   "source": [
    "**Question 3 (1 pt)**: We decide to sequence our genome with 100 reads of length ($L$) 7bp. What will be the average coverage ($C$) of our length 15 genome above? Set the variable `meancov` below to your answer.\n",
    "\n",
    "Recall that *coverage* refers to the average number of times each base in the genome is sequenced. (see the formula for coverage from last week.)"
   ]
  },
  {
   "cell_type": "code",
   "execution_count": 15,
   "metadata": {
    "deletable": false,
    "nbgrader": {
     "cell_type": "code",
     "checksum": "cfb074fbd56f562352dcc085dfc2cba1",
     "grade": false,
     "grade_id": "kmer-cov-answer",
     "locked": false,
     "schema_version": 3,
     "solution": true,
     "task": false
    }
   },
   "outputs": [],
   "source": [
    "meancov = 46.67\n",
    "# your code here"
   ]
  },
  {
   "cell_type": "code",
   "execution_count": 16,
   "metadata": {
    "deletable": false,
    "editable": false,
    "nbgrader": {
     "cell_type": "code",
     "checksum": "5f3cfa9147490ed98d159c9e49add622",
     "grade": true,
     "grade_id": "kmer-cov-test",
     "locked": true,
     "points": 1,
     "schema_version": 3,
     "solution": false,
     "task": false
    }
   },
   "outputs": [],
   "source": [
    "assert(meancov > 10.0 and meancov < 100.0)\n",
    "assert(type(meancov)==float)"
   ]
  },
  {
   "cell_type": "markdown",
   "metadata": {
    "deletable": false,
    "editable": false,
    "nbgrader": {
     "cell_type": "markdown",
     "checksum": "1becd8b117be85d7971f31b247252830",
     "grade": false,
     "grade_id": "text-kmercov",
     "locked": true,
     "schema_version": 3,
     "solution": false
    }
   },
   "source": [
    "We can also consider the *kmer coverage* ($M$), or the average number of times each *kmer* of a given length is seen. For example, if we have reads of length $L=7$, and are using $k=7$, then we will sequence a single kmer for each read. If we know the total number of possible kmers (your answer to question 2), then we can compute $M$ as the total number of kmers seen divided by the total number of possible kmers. \n",
    "\n",
    "**Question 4 (1 pt)**: Continuing our example from question 3, with $N=100$ reads of length $L=7$, $|G|=15$, and $k=7$, what will be the average *kmer coverage*? Set the variable `kmer_cov1` to your answer below."
   ]
  },
  {
   "cell_type": "code",
   "execution_count": 17,
   "metadata": {
    "deletable": false,
    "nbgrader": {
     "cell_type": "code",
     "checksum": "b7278f84d5fa63db1363ffa5008c4431",
     "grade": false,
     "grade_id": "kmercov-answer",
     "locked": false,
     "schema_version": 3,
     "solution": true,
     "task": false
    }
   },
   "outputs": [],
   "source": [
    "kmer_cov1 = 11.1"
   ]
  },
  {
   "cell_type": "code",
   "execution_count": 18,
   "metadata": {
    "deletable": false,
    "editable": false,
    "nbgrader": {
     "cell_type": "code",
     "checksum": "921924195bc46133a71a9d27da3346e9",
     "grade": true,
     "grade_id": "kmerread-test-1",
     "locked": true,
     "points": 1,
     "schema_version": 3,
     "solution": false,
     "task": false
    }
   },
   "outputs": [],
   "source": [
    "assert(kmer_cov1 > 10 and kmer_cov1 < 20)"
   ]
  },
  {
   "cell_type": "markdown",
   "metadata": {
    "deletable": false,
    "editable": false,
    "nbgrader": {
     "cell_type": "markdown",
     "checksum": "88ada2b0b0fc41050bab1e588e3dad38",
     "grade": false,
     "grade_id": "kmeread",
     "locked": true,
     "schema_version": 3,
     "solution": false
    }
   },
   "source": [
    "**Question 5 (1 pt)**: What about if read length $L=10$? How many kmers of length $k=7$ will we observe per read? What will be the average kmer coverage with 100 reads for a genome of length 15? Set the variable `kmer_cov2` to your answer below."
   ]
  },
  {
   "cell_type": "code",
   "execution_count": 19,
   "metadata": {
    "deletable": false,
    "nbgrader": {
     "cell_type": "code",
     "checksum": "da451ccec4aece81c9472d2fa6a71622",
     "grade": false,
     "grade_id": "kmerread-answer",
     "locked": false,
     "schema_version": 3,
     "solution": true,
     "task": false
    }
   },
   "outputs": [],
   "source": [
    "kmer_cov2 = 44.4\n"
   ]
  },
  {
   "cell_type": "code",
   "execution_count": 20,
   "metadata": {
    "deletable": false,
    "editable": false,
    "nbgrader": {
     "cell_type": "code",
     "checksum": "c0529e45453c7e3021fa3b479c114d80",
     "grade": true,
     "grade_id": "kmerread-test-2",
     "locked": true,
     "points": 1,
     "schema_version": 3,
     "solution": false,
     "task": false
    }
   },
   "outputs": [],
   "source": [
    "assert(kmer_cov2 > 30 and kmer_cov2 < 50)"
   ]
  },
  {
   "cell_type": "markdown",
   "metadata": {
    "deletable": false,
    "editable": false,
    "nbgrader": {
     "cell_type": "markdown",
     "checksum": "9b529ad0ecae1602668b306955e9c068",
     "grade": false,
     "grade_id": "test-q6",
     "locked": true,
     "schema_version": 3,
     "solution": false
    }
   },
   "source": [
    "Now let's write some code to check our answers.\n",
    "\n",
    "**Question 6 (4 pts)**: Complete the code below, which generates $N$ reads of length $L$ from an example genome $G$ and plots a histogram of kmer counts for a given kmer length $k$.\n",
    "\n",
    "You will need to fill in the functions:\n",
    "* `GetKmersFromReads`: which obtains a list of all kmers of a given length observed in the reads\n",
    "* `GetMeanKmerCov`: which computes the mean kmer coverage ($M$) based on the read length $L$, kmer size $k$, and number of reads $N$. \n",
    "\n",
    "The code will create a histogram of kmer counts. If your result for `GetMeanKmerCov` is correct it should be around the mean value of the histogram."
   ]
  },
  {
   "cell_type": "code",
   "execution_count": 21,
   "metadata": {
    "deletable": false,
    "nbgrader": {
     "cell_type": "code",
     "checksum": "45a32461663c558712c86700e228f227",
     "grade": false,
     "grade_id": "plot-khist",
     "locked": false,
     "schema_version": 3,
     "solution": true
    }
   },
   "outputs": [
    {
     "name": "stdout",
     "output_type": "stream",
     "text": [
      "Populating the interactive namespace from numpy and matplotlib\n"
     ]
    },
    {
     "name": "stderr",
     "output_type": "stream",
     "text": [
      "/opt/conda/lib/python3.9/site-packages/IPython/core/magics/pylab.py:159: UserWarning: pylab import has clobbered these variables: ['random']\n",
      "`%matplotlib` prevents importing * from pylab and numpy\n",
      "  warn(\"pylab import has clobbered these variables: %s\"  % clobbered +\n"
     ]
    },
    {
     "data": {
      "image/png": "[encoded data removed]",
      "text/plain": [
       "<Figure size 504x216 with 1 Axes>"
      ]
     },
     "metadata": {
      "needs_background": "light"
     },
     "output_type": "display_data"
    }
   ],
   "source": [
    "%pylab inline\n",
    "import numpy as np\n",
    "\n",
    "GENOME=\"ACTCGGCGTTACGCG\"\n",
    "k = 7\n",
    "N = 100\n",
    "L = 7\n",
    "\n",
    "def GetReads(GENOME, N, L):\n",
    "    \"\"\" Return a list of N reads of length L from a GENOME string\n",
    "    \n",
    "    Parameters\n",
    "    ----------\n",
    "    GENOME : str\n",
    "       String consisting of the genome sequence\n",
    "    N : int\n",
    "       number of reads\n",
    "    L : int\n",
    "       length (in bp) of the reads\n",
    "       \n",
    "    Returns\n",
    "    -------\n",
    "    reads : list of str\n",
    "       List of reads (consisting of strings of nucleotides)\n",
    "    \"\"\"\n",
    "    reads = []\n",
    "    for i in range(N):\n",
    "        start = np.random.randint(0, len(GENOME)-L+1)\n",
    "        reads.append(GENOME[start:start+L])\n",
    "    return reads\n",
    "\n",
    "def GetKmersFromReads(reads, k):\n",
    "    \"\"\" Return a list of all kmers of length k from a list of reads\n",
    "    \n",
    "    Parameters\n",
    "    ----------\n",
    "    reads : list of str\n",
    "       List of reads (consisting of strings of nucleotides)\n",
    "    k : int\n",
    "       K-mer length\n",
    "\n",
    "    Returns\n",
    "    -------\n",
    "    kmers : list of str\n",
    "       List of kmers (consisting of strings of nucleotides length k)\n",
    "    \"\"\"\n",
    "    kmers = []\n",
    "    for read in reads:\n",
    "        for i in range(len(read)-k+1):\n",
    "            kmers.append(read[i:i+k])\n",
    "    return kmers\n",
    "\n",
    "def GetKmerCounts(kmer_list):\n",
    "    \"\"\" Count the number of times each unique kmer occurs.\n",
    "    \n",
    "    Should return a dictionary with kmer_counts[kmer] = number of times the \n",
    "    kmer is seen in kmer_list\n",
    "    \n",
    "    Parameters\n",
    "    ----------\n",
    "    kmer_list : list of str\n",
    "       List of kmers (consisting of strings of nucleotides length k)\n",
    "       \n",
    "    Returns\n",
    "    -------\n",
    "    kmer_counts : dict of str->int\n",
    "       Dictionary indicating the number of times each kmer is seen in kmer_list.\n",
    "       Key: kmer. Value: number of times seen\n",
    "    \"\"\"\n",
    "    kmer_counts = {}\n",
    "    for kmer in kmer_list:\n",
    "        kmer_counts[kmer] = kmer_counts.get(kmer, 0) + 1\n",
    "    return kmer_counts\n",
    "\n",
    "def GetMeanKmerCov(GENOME, N, k, L):\n",
    "    \"\"\"Compute the mean kmer coverage of a genome\n",
    "    \n",
    "    Parameters\n",
    "    ----------\n",
    "    GENOME : str\n",
    "       String consisting of the genome sequence\n",
    "    N : int\n",
    "       number of reads\n",
    "    k : int\n",
    "       K-mer length\n",
    "    L : int\n",
    "       length (in bp) of the reads\n",
    "\n",
    "    Returns\n",
    "    -------\n",
    "    mean_kmer_cov : float\n",
    "       Mean number of times each kmer is seen\n",
    "    \"\"\"\n",
    "    num_kmers_seq = 0 # Set this below\n",
    "    num_kmers_uniq = -1 # Set this below\n",
    "    # Set num_kmers_seq and num_kmers_uniq based on the formulas above\n",
    "    # num_kmers_seq is the total number of kmers sequenced\n",
    "    # num_kmers_uniq is the number of unique kmers in GENOME (assuming all are unique)\n",
    "    # your code here\n",
    "    num_kmers_uniq = len(GENOME)-k+1\n",
    "    num_kmers_seq = (L-k+1)*N\n",
    "    mean_kmer_cov = num_kmers_seq*1.0/num_kmers_uniq\n",
    "    return mean_kmer_cov\n",
    "\n",
    "def PlotKmerHist(kmer_counts, meanval=None):\n",
    "    \"\"\" Plot a histogram of kmer counts\n",
    "    \n",
    "    Returns a plot where the x-axis is kmer count, and the y-axis\n",
    "    is the number of kmers seen that many times.\n",
    "    \n",
    "    Parameters\n",
    "    ----------\n",
    "    kmer_counts : dict of str->int\n",
    "       Dictionary indicating the number of times each kmer is seen in kmer_list.\n",
    "       Key: kmer. Value: number of times seen\n",
    "    meanval : float (optional)\n",
    "       Mean kmer coverage value\n",
    "    \"\"\"\n",
    "    fig = plt.figure()\n",
    "    fig.set_size_inches((7, 3))\n",
    "    ax = fig.add_subplot(111)\n",
    "    vals = list(kmer_counts.values())\n",
    "    bins = np.arange(0, max(vals)*1.5, 1)\n",
    "    ax.hist(vals, bins=bins)\n",
    "    if meanval is not None: ax.axvline(x=meanval, linestyle=\"dashed\", color=\"red\")\n",
    "    ax.set_xlabel(\"Kmer count\")\n",
    "    ax.set_ylabel(\"Number of kmers\")\n",
    "    \n",
    "reads = GetReads(GENOME, N, L)\n",
    "kmer_list = GetKmersFromReads(reads, k)\n",
    "kmer_counts = GetKmerCounts(kmer_list)\n",
    "PlotKmerHist(kmer_counts, meanval=GetMeanKmerCov(GENOME, N, k, L))"
   ]
  },
  {
   "cell_type": "code",
   "execution_count": 24,
   "metadata": {
    "deletable": false,
    "editable": false,
    "nbgrader": {
     "cell_type": "code",
     "checksum": "20a3493fefd1172487806d11ccc876a5",
     "grade": true,
     "grade_id": "correct-plot-khist",
     "locked": true,
     "points": 2,
     "schema_version": 3,
     "solution": false
    }
   },
   "outputs": [],
   "source": [
    "\"\"\"Test GetKmersFromReads\"\"\"\n",
    "GENOME=\"ACTCGGCGTTACGCG\"\n",
    "k = 7\n",
    "N = 100\n",
    "L = 7\n",
    "reads = GetReads(GENOME, N, L)\n",
    "kmer_list = GetKmersFromReads(reads, k)\n",
    "assert(len(kmer_list)==N)\n",
    "\n",
    "k = 7\n",
    "N = 100\n",
    "L = 10\n",
    "reads = GetReads(GENOME, N, L)\n",
    "kmer_list = GetKmersFromReads(reads, k)"
   ]
  },
  {
   "cell_type": "code",
   "execution_count": 25,
   "metadata": {
    "deletable": false,
    "editable": false,
    "nbgrader": {
     "cell_type": "code",
     "checksum": "365aed3f684a7beb0cc88b197a25d651",
     "grade": true,
     "grade_id": "correct-plot-khist2",
     "locked": true,
     "points": 2,
     "schema_version": 3,
     "solution": false
    }
   },
   "outputs": [],
   "source": [
    "\"\"\"Test GetMeanKmerCov\"\"\"\n",
    "GENOME=\"ACTCGGCGTTACGCG\"\n",
    "k = 7\n",
    "N = 100\n",
    "L = 7\n",
    "\n",
    "k = 5\n",
    "N = 1000\n",
    "L = 10"
   ]
  },
  {
   "cell_type": "markdown",
   "metadata": {
    "deletable": false,
    "editable": false,
    "nbgrader": {
     "cell_type": "markdown",
     "checksum": "f26416497f700567b8680827513aec0c",
     "grade": false,
     "grade_id": "text-larger-genomes",
     "locked": true,
     "schema_version": 3,
     "solution": false
    }
   },
   "source": [
    "Now let's take a look at kmer histograms for larger genomes to get a feel for what this will look like in real data. Play around with the parameters in the cell below and see how they affect the histograms. You can also use this to make sure your estimate fo the mean kmer coverage is correct."
   ]
  },
  {
   "cell_type": "code",
   "execution_count": 26,
   "metadata": {},
   "outputs": [
    {
     "data": {
      "image/png": "[encoded data removed]",
      "text/plain": [
       "<Figure size 504x216 with 1 Axes>"
      ]
     },
     "metadata": {
      "needs_background": "light"
     },
     "output_type": "display_data"
    }
   ],
   "source": [
    "# Generate a random genome of 1kb\n",
    "nucs = [\"A\",\"C\",\"G\",\"T\"]\n",
    "genome_size = 2000\n",
    "GENOME = ''.join([nucs[np.random.randint(0, 4)] for  i in range(genome_size)])\n",
    "\n",
    "# Set real-world kmer size and read length\n",
    "k = 11\n",
    "L = 36\n",
    "N = 1000\n",
    "\n",
    "reads = GetReads(GENOME, N, L)\n",
    "kmer_list = GetKmersFromReads(reads, k)\n",
    "kmer_counts = GetKmerCounts(kmer_list)\n",
    "PlotKmerHist(kmer_counts, meanval=GetMeanKmerCov(GENOME, N, k, L))"
   ]
  },
  {
   "cell_type": "markdown",
   "metadata": {
    "deletable": false,
    "editable": false,
    "nbgrader": {
     "cell_type": "markdown",
     "checksum": "ce3429dc2063348596a2cdeddea996bc",
     "grade": false,
     "grade_id": "text-part2-genomesize",
     "locked": true,
     "schema_version": 3,
     "solution": false
    }
   },
   "source": [
    "## 1.2. Estimating genome size from kmer histograms\n",
    "\n",
    "We'd like to be able to estimate the size of a genome just based on the observed reads. It turns out we can leverage kmer histograms to solve this problem.\n",
    "\n",
    "After completing the exercise above, we now know how to compute *kmer coverage* ($M$: average number of times each kmer is seen) and *sequencing coverage* ($C$: average number of times each base pair is sequenced) as a function of:\n",
    "\n",
    "* $G$: the size of the genome\n",
    "* $N$: the number of reads\n",
    "* $L$: the length of the read\n",
    "* $k$: the size of the kmer\n",
    "\n",
    "Rearrange your formula for kmer coverage ($M$) to solve for $G$. Note, since in most settings $G-k+1$ is very close to $G$, you can replace wherever that term occurs in your formula with $G$ to simplify. That is, assume $G-k+1 \\approx G$.\n",
    "\n",
    "**Question 7 (1 pt)**: Complete the function `GetGenomeSize` below which computes genome size $G$ as a function of number of reads ($N$), read length ($L$), kmer size ($k$), and observed peak location in the kmer histogram ($M$) based on the formula you derive.\n",
    "\n",
    "Based on the observed kmer histogram above (for a genome of length 1000 with kmer size 10 and 1,000 reads of length 36), you should hopefully see a peak for $M$ around 25-30. If your formula is correct, you should estimate the genome size to be 900-1,080 which is pretty close to the true size of 1,000."
   ]
  },
  {
   "cell_type": "code",
   "execution_count": 27,
   "metadata": {
    "deletable": false,
    "nbgrader": {
     "cell_type": "code",
     "checksum": "385c07d343129f7c1e1f9758f3253c66",
     "grade": false,
     "grade_id": "genomesize-answer",
     "locked": false,
     "schema_version": 3,
     "solution": true,
     "task": false
    }
   },
   "outputs": [],
   "source": [
    "def GetGenomeSize(N, k, L, M):\n",
    "    \"\"\" Estimate the size of a genome based on observed reads\n",
    "    \n",
    "    Parameters\n",
    "    ----------\n",
    "    N : int\n",
    "       number of reads\n",
    "    k : int\n",
    "       K-mer length\n",
    "    L : int\n",
    "       length (in bp) of the reads\n",
    "    M : float\n",
    "       Estimated mean kmer coverage.\n",
    "       \n",
    "    Return\n",
    "    ------\n",
    "    est_genome_size : int\n",
    "       Estimated genome size (in bp)\n",
    "    \"\"\"\n",
    "    est_genome_size = N*(L-k+1)/ M\n",
    "    return int(est_genome_size)"
   ]
  },
  {
   "cell_type": "code",
   "execution_count": 28,
   "metadata": {
    "deletable": false,
    "editable": false,
    "nbgrader": {
     "cell_type": "code",
     "checksum": "1c182bef7b0c98bc990ccdce77f3f845",
     "grade": true,
     "grade_id": "genomesize-test",
     "locked": true,
     "points": 1,
     "schema_version": 3,
     "solution": false,
     "task": false
    }
   },
   "outputs": [],
   "source": [
    "N = 1000\n",
    "L = 36\n",
    "k = 10\n",
    "M = 30\n",
    "assert(GetGenomeSize(N, k, L, M)==900)\n",
    "M = 25\n",
    "assert(GetGenomeSize(N, k, L, M)==1080)"
   ]
  },
  {
   "cell_type": "markdown",
   "metadata": {
    "deletable": false,
    "editable": false,
    "nbgrader": {
     "cell_type": "markdown",
     "checksum": "24443b01ccc739a38ba18c1f407fd0c2",
     "grade": false,
     "grade_id": "text-part-realdata",
     "locked": true,
     "schema_version": 3,
     "solution": false
    }
   },
   "source": [
    "## 1.3. Kmer histograms for real data\n",
    "\n",
    "In real data, our kmer histograms get slightly more complicated since we have sequencing errors. \n",
    "\n",
    "**Question 8 (1 pt)**: Modify the code below to introduce random errors into your reads at a rate of 0.1%.\n",
    "\n",
    "If your answer is correct, you should see a huge spike of unique kmers (at count=1) due to sequencing errors. In practice, to account for errors in our genome size estimation, instead of using $N$, $L$, and $k$ to compute the total number of kmers sequenced, we will instead add up all the kmers seen after chopping off the kmers with low counts that are likely due to errors. We will explore this more using real data in the lab assignment."
   ]
  },
  {
   "cell_type": "code",
   "execution_count": 29,
   "metadata": {
    "deletable": false,
    "nbgrader": {
     "cell_type": "code",
     "checksum": "f971d4e96c2e23d63aedb47c880440e4",
     "grade": false,
     "grade_id": "read-errors",
     "locked": false,
     "schema_version": 3,
     "solution": true
    }
   },
   "outputs": [
    {
     "data": {
      "image/png": "[encoded data removed]",
      "text/plain": [
       "<Figure size 504x216 with 1 Axes>"
      ]
     },
     "metadata": {
      "needs_background": "light"
     },
     "output_type": "display_data"
    }
   ],
   "source": [
    "nucs = [\"A\",\"C\",\"G\",\"T\"]\n",
    "genome_size = 1000\n",
    "GENOME = ''.join([nucs[np.random.randint(0, 4)] for  i in range(genome_size)])\n",
    "\n",
    "# Set real-world kmer size and read length\n",
    "k = 10\n",
    "L = 36\n",
    "N = 1000\n",
    "error_rate = 0.001\n",
    "\n",
    "def GetReadsWithErrors(GENOME, N, L, error_rate):\n",
    "    \"\"\" Return a list of N reads of length L from a GENOME string\n",
    "    \n",
    "    Generate random errors with probability error_rate \n",
    "    \n",
    "    Parameters\n",
    "    ----------\n",
    "    GENOME : str\n",
    "       String consisting of the genome sequence\n",
    "    N : int\n",
    "       number of reads\n",
    "    L : int\n",
    "       length (in bp) of the reads\n",
    "    error_rate : float\n",
    "       The probability that each base is incorrect.\n",
    "       \n",
    "    Returns\n",
    "    -------\n",
    "    reads : list of str\n",
    "       List of reads (consisting of strings of nucleotides)\n",
    "    \"\"\"\n",
    "    reads = []\n",
    "    for i in range(N):\n",
    "        start = np.random.randint(0, len(GENOME)-L+1)\n",
    "        read = GENOME[start:start+L]\n",
    "        readlist = list(read)\n",
    "        for i in range(len(readlist)):\n",
    "            if random.random() < 0.001:\n",
    "                bases  = ['A', 'C', 'G', 'T']\n",
    "                randomletter = random.choice(bases)\n",
    "                readlist[i]=randomletter\n",
    "        R = ''.join(readlist)\n",
    "        reads.append(R)\n",
    "    return reads\n",
    "\n",
    "reads = GetReadsWithErrors(GENOME, N, L, error_rate)\n",
    "kmer_list = GetKmersFromReads(reads, k)\n",
    "kmer_counts = GetKmerCounts(kmer_list)\n",
    "PlotKmerHist(kmer_counts, meanval=GetMeanKmerCov(GENOME, N, k, L))"
   ]
  },
  {
   "cell_type": "code",
   "execution_count": 31,
   "metadata": {
    "deletable": false,
    "editable": false,
    "nbgrader": {
     "cell_type": "code",
     "checksum": "587b61bf5946ec2b1a93ccf723905abd",
     "grade": true,
     "grade_id": "check-read-errors",
     "locked": true,
     "points": 2,
     "schema_version": 3,
     "solution": false
    }
   },
   "outputs": [],
   "source": [
    "\"\"\"Check that there are many kmers with count 1\"\"\"\n",
    "GENOME = ''.join([nucs[np.random.randint(0, 4)] for  i in range(genome_size)])\n",
    "k = 10\n",
    "L = 36\n",
    "N = 1000\n",
    "error_rate = 0.001\n",
    "reads = GetReadsWithErrors(GENOME, N, L, error_rate)\n",
    "kmer_list = GetKmersFromReads(reads, k)\n",
    "kmer_counts = GetKmerCounts(kmer_list)\n",
    "assert(len(reads) == N)\n",
    "assert(len([item for item in kmer_counts if kmer_counts[item]==1])> 50) # There is an infinitesimal chance this will fail"
   ]
  },
  {
   "cell_type": "markdown",
   "metadata": {
    "deletable": false,
    "editable": false,
    "nbgrader": {
     "cell_type": "markdown",
     "checksum": "58fb5e1a390b9f6b82a0b7672bd5d3f1",
     "grade": false,
     "grade_id": "text-quizreview-intro",
     "locked": true,
     "schema_version": 3,
     "solution": false,
     "task": false
    }
   },
   "source": [
    "# Part 2: Review questions\n",
    "\n",
    "**Question 1 (1 pt)**: You sequence a human genome (3 billion bp) with 2 billion single end reads of 101bp each. What do you expect the average *sequencing coverage* to be? Set the variable `meancov` below to your answer."
   ]
  },
  {
   "cell_type": "code",
   "execution_count": 1,
   "metadata": {
    "deletable": false,
    "nbgrader": {
     "cell_type": "code",
     "checksum": "537e0a18144fb3dcddf31b82c678cdbc",
     "grade": false,
     "grade_id": "quiz1-answer",
     "locked": false,
     "schema_version": 3,
     "solution": true,
     "task": false
    }
   },
   "outputs": [],
   "source": [
    "meancov = 67\n",
    "# Set meancov to the average sequencing coverage\n",
    "# your code here"
   ]
  },
  {
   "cell_type": "code",
   "execution_count": 3,
   "metadata": {
    "deletable": false,
    "editable": false,
    "nbgrader": {
     "cell_type": "code",
     "checksum": "780810df332a883b0e0856e8f618ec38",
     "grade": true,
     "grade_id": "quiz1-test",
     "locked": true,
     "points": 1,
     "schema_version": 3,
     "solution": false,
     "task": false
    }
   },
   "outputs": [
    {
     "data": {
      "text/plain": [
       "'Check that meancov is set to the correct answer'"
      ]
     },
     "execution_count": 3,
     "metadata": {},
     "output_type": "execute_result"
    }
   ],
   "source": [
    "\"\"\"Check that meancov is set to the correct answer\"\"\""
   ]
  },
  {
   "cell_type": "markdown",
   "metadata": {
    "deletable": false,
    "editable": false,
    "nbgrader": {
     "cell_type": "markdown",
     "checksum": "567f1d9512930a452b4a5bec0db68ae7",
     "grade": false,
     "grade_id": "cell-ef42b62b7412587c",
     "locked": true,
     "schema_version": 3,
     "solution": false,
     "task": false
    }
   },
   "source": [
    "**Question 2 (1 pt):** You are analyzing sequencing data of a human (which is diploid) at a position where the individual is *heterozygous* for the reference base (\"A\") and an alternate (\"T\") base. If the position was covered by 5 reads, in the absence of sequencing errors, what is the probability of seeing 0 reads with the alternate \"T\" base in that position? Set the variable `prob0` below."
   ]
  },
  {
   "cell_type": "code",
   "execution_count": 5,
   "metadata": {
    "deletable": false,
    "nbgrader": {
     "cell_type": "code",
     "checksum": "ee94cc028a17ae2bcd623f41928404a0",
     "grade": false,
     "grade_id": "quiz2-answer",
     "locked": false,
     "schema_version": 3,
     "solution": true,
     "task": false
    }
   },
   "outputs": [
    {
     "name": "stdout",
     "output_type": "stream",
     "text": [
      "0.03125\n"
     ]
    }
   ],
   "source": [
    "import scipy.special\n",
    "# Recall scipy.special.comb(N, k) gives \"N choose k\" which\n",
    "# is helpful for computing binomial probabilities\n",
    "# Or you could also do the math manually and just set prob0\n",
    "# to your answer\n",
    "\n",
    "prob0 = 1/scipy.special.comb(5,0)*0.5**5\n",
    "print (prob0)\n",
    "# Set prob0 below to answer question 2\n",
    "# your code here"
   ]
  },
  {
   "cell_type": "code",
   "execution_count": 6,
   "metadata": {
    "deletable": false,
    "editable": false,
    "nbgrader": {
     "cell_type": "code",
     "checksum": "44f84ee6f697dc06030c77bc16a83c30",
     "grade": true,
     "grade_id": "quiz2-test",
     "locked": true,
     "points": 1,
     "schema_version": 3,
     "solution": false,
     "task": false
    }
   },
   "outputs": [],
   "source": [
    "\"\"\"Check prob0 set correctly\"\"\"\n",
    "assert(prob0 >= 0 and prob0 <= 1)"
   ]
  },
  {
   "cell_type": "markdown",
   "metadata": {
    "deletable": false,
    "editable": false,
    "nbgrader": {
     "cell_type": "markdown",
     "checksum": "f2f4bc112f7649df614904c9a579af3f",
     "grade": false,
     "grade_id": "quiz3-text",
     "locked": true,
     "schema_version": 3,
     "solution": false,
     "task": false
    }
   },
   "source": [
    "**Question 3 (1 pt)**: You sequence a single fragment of DNA with 2x101bp paired-end Illumina reads. After aligning your reads to the genome, the first (forward) read maps to chr6:10000 and the second read maps to chr6:10400 (Note: those are the start, or left-most, coordinates of each read). What is the estimated length of the fragment based on where the reads map? Set `fraglen` to your answer below."
   ]
  },
  {
   "cell_type": "code",
   "execution_count": 8,
   "metadata": {
    "deletable": false,
    "nbgrader": {
     "cell_type": "code",
     "checksum": "f82cfbd1a006e59280c699e1bf5336c2",
     "grade": false,
     "grade_id": "quiz3-answer",
     "locked": false,
     "schema_version": 3,
     "solution": true,
     "task": false
    }
   },
   "outputs": [],
   "source": [
    "fraglen = 501\n",
    "# Set fraglen to your answer below\n",
    "# your code here"
   ]
  },
  {
   "cell_type": "code",
   "execution_count": 9,
   "metadata": {
    "deletable": false,
    "editable": false,
    "nbgrader": {
     "cell_type": "code",
     "checksum": "70aab0ceca0116cb1fc295cd20f0cac6",
     "grade": true,
     "grade_id": "quiz3-test",
     "locked": true,
     "points": 1,
     "schema_version": 3,
     "solution": false,
     "task": false
    }
   },
   "outputs": [],
   "source": [
    "\"\"\"Check the value of fraglen\"\"\"\n",
    "assert(fraglen > 500 and fraglen < 2000)"
   ]
  },
  {
   "cell_type": "markdown",
   "metadata": {
    "deletable": false,
    "editable": false,
    "nbgrader": {
     "cell_type": "markdown",
     "checksum": "05f34ab29e551417983d446bdf01729e",
     "grade": false,
     "grade_id": "quiz4-text",
     "locked": true,
     "schema_version": 3,
     "solution": false,
     "task": false
    }
   },
   "source": [
    "**Question 4 (1 pt):** You sequence a genome of length 1 billion using 3 billion single end reads of length 36bp. Using kmers of length 31, how many times do you expect to see each kmer in your data? (i.e. what is the mean *kmer coverage*)? Set your answer in the variable `kmercov` below."
   ]
  },
  {
   "cell_type": "code",
   "execution_count": 10,
   "metadata": {
    "deletable": false,
    "nbgrader": {
     "cell_type": "code",
     "checksum": "2b29233f6ba1bf089dee30742212806b",
     "grade": false,
     "grade_id": "quiz4-answer",
     "locked": false,
     "schema_version": 3,
     "solution": true,
     "task": false
    }
   },
   "outputs": [],
   "source": [
    "kmercov = 18\n",
    "# Set kmercov to your answer below\n",
    "# your code here"
   ]
  },
  {
   "cell_type": "code",
   "execution_count": 11,
   "metadata": {
    "deletable": false,
    "editable": false,
    "nbgrader": {
     "cell_type": "code",
     "checksum": "7800f5a93dd4e605c448693f6208c0e3",
     "grade": true,
     "grade_id": "quiz4-test",
     "locked": true,
     "points": 1,
     "schema_version": 3,
     "solution": false,
     "task": false
    }
   },
   "outputs": [],
   "source": [
    "\"\"\"Check the value of kmercov\"\"\"\n",
    "assert(kmercov > 0 and kmercov < 100000)"
   ]
  },
  {
   "cell_type": "markdown",
   "metadata": {
    "deletable": false,
    "editable": false,
    "nbgrader": {
     "cell_type": "markdown",
     "checksum": "90025cdd98ba686987445e01b9871442",
     "grade": false,
     "grade_id": "quiz5-text",
     "locked": true,
     "schema_version": 3,
     "solution": false,
     "task": false
    }
   },
   "source": [
    "**Question 5 (1 pt)**: Write a UNIX command to get the filesize in human readable format (e.g. number of megabytes, gigabytes, etc.) of the file `test.fq` (included in this directory). Set the variable `cmd` to your command below. Hint: you can test UNIX commands either in the terminal, or by putting `!` before your command in a Jupyter notebook cell."
   ]
  },
  {
   "cell_type": "code",
   "execution_count": 32,
   "metadata": {
    "deletable": false,
    "nbgrader": {
     "cell_type": "code",
     "checksum": "dea8af1ab1aebe4413e13597ac257f67",
     "grade": false,
     "grade_id": "quiz5-answer",
     "locked": false,
     "schema_version": 3,
     "solution": true,
     "task": false
    }
   },
   "outputs": [],
   "source": [
    "cmd = 'ls -lh test.fq'\n",
    "# Set cmd to get the filesize in human readable format for test.fq\n",
    "# your code here"
   ]
  },
  {
   "cell_type": "code",
   "execution_count": 33,
   "metadata": {
    "deletable": false,
    "editable": false,
    "nbgrader": {
     "cell_type": "code",
     "checksum": "deec0f77de897c5d1a13d30c15bb9b66",
     "grade": true,
     "grade_id": "quiz5-test",
     "locked": true,
     "points": 1,
     "schema_version": 3,
     "solution": false,
     "task": false
    }
   },
   "outputs": [],
   "source": [
    "\"\"\"Check that the command gives the file size\"\"\"\n",
    "from subprocess import Popen, PIPE\n",
    "p = Popen(cmd, shell=True, stdout=PIPE, stderr=PIPE)\n",
    "out, err = p.communicate()\n",
    "assert(p.returncode == 0)\n",
    "assert(\"1.\" in str(out))\n",
    "assert(\"K\" in str(out))"
   ]
  },
  {
   "cell_type": "markdown",
   "metadata": {
    "deletable": false,
    "editable": false,
    "nbgrader": {
     "cell_type": "markdown",
     "checksum": "62ee5a91fbf65eee3c7615e003a563a0",
     "grade": false,
     "grade_id": "quiz6-text",
     "locked": true,
     "schema_version": 3,
     "solution": false,
     "task": false
    }
   },
   "source": [
    "**Question 6 (1 pt)**: Write a one line UNIX command that outputs the part of `test.fq` corresponding to reads 3-5. Remember each read encompasses 4 lines of data. Your solution should involve \"piping\" two commands together. e.g. `command1 | command2...`. Set the variable `cmd` to your command below."
   ]
  },
  {
   "cell_type": "code",
   "execution_count": 18,
   "metadata": {
    "deletable": false,
    "nbgrader": {
     "cell_type": "code",
     "checksum": "bfc686e4e3203d546dc300106cd6dba9",
     "grade": false,
     "grade_id": "quiz6-answer",
     "locked": false,
     "schema_version": 3,
     "solution": true,
     "task": false
    }
   },
   "outputs": [],
   "source": [
    "cmd = 'head -n 20 test.fq| tail -n 12 test.fq'\n",
    "# your code here"
   ]
  },
  {
   "cell_type": "code",
   "execution_count": 19,
   "metadata": {
    "deletable": false,
    "editable": false,
    "nbgrader": {
     "cell_type": "code",
     "checksum": "ceb5e9e5713a635eda12a18312014f79",
     "grade": true,
     "grade_id": "quiz6-test",
     "locked": true,
     "points": 1,
     "schema_version": 3,
     "solution": false,
     "task": false
    }
   },
   "outputs": [],
   "source": [
    "\"\"\"Check that the command gives the correct lines\"\"\"\n",
    "from subprocess import Popen, PIPE\n",
    "p = Popen(cmd, shell=True, stdout=PIPE, stderr=PIPE)\n",
    "out, err = p.communicate()\n",
    "assert(p.returncode == 0)\n",
    "assert(len(str(out).strip().split(\"\\\\n\")[:-1])==12) # Note there is an extra \"'\" at the end. better way to write this test?"
   ]
  },
  {
   "cell_type": "markdown",
   "metadata": {
    "deletable": false,
    "editable": false,
    "nbgrader": {
     "cell_type": "markdown",
     "checksum": "8e6bbdd77c3e24c70cb4f7918f16ed59",
     "grade": false,
     "grade_id": "quiz7-text",
     "locked": true,
     "schema_version": 3,
     "solution": false,
     "task": false
    }
   },
   "source": [
    "**Question 7 (1 pt)**: Write a UNIX command to print out the first five occurrences of the string \">chr\" in the file `~/public/genomes/hg19.fa`. Set the variable `cmd` to your command below."
   ]
  },
  {
   "cell_type": "code",
   "execution_count": 22,
   "metadata": {
    "deletable": false,
    "nbgrader": {
     "cell_type": "code",
     "checksum": "bce274f44240380b66a44d063dc6753b",
     "grade": false,
     "grade_id": "quiz7-answer",
     "locked": false,
     "schema_version": 3,
     "solution": true,
     "task": false
    }
   },
   "outputs": [],
   "source": [
    "cmd = \"grep '>chr' ~/public/genomes/hg19.fa | head -n 5\"\n",
    "# Set cmd to print out the first five occurrences of the string \">chr\" \n",
    "# in the file `~/public/genomes/hg19.fa`\n",
    "# your code here"
   ]
  },
  {
   "cell_type": "code",
   "execution_count": 23,
   "metadata": {
    "deletable": false,
    "editable": false,
    "nbgrader": {
     "cell_type": "code",
     "checksum": "8dea1c1f1846da9a1367d6dcdc7161a6",
     "grade": true,
     "grade_id": "quiz7-test",
     "locked": true,
     "points": 1,
     "schema_version": 3,
     "solution": false,
     "task": false
    }
   },
   "outputs": [],
   "source": [
    "\"\"\"Check that the command gives the correct output\"\"\"\n",
    "from subprocess import Popen, PIPE\n",
    "p = Popen(cmd, shell=True, stdout=PIPE, stderr=PIPE)\n",
    "out, err = p.communicate()\n",
    "assert(p.returncode == 0)\n",
    "assert(len(str(out).split(\"\\\\n\")[:-1])==5)\n",
    "assert(\">chr1\" in str(out))\n",
    "assert(\">chr2\" in str(out))\n",
    "assert(\">chr3\" in str(out))\n",
    "assert(\">chr4\" in str(out))\n",
    "assert(\">chr5\" in str(out))"
   ]
  }
 ],
 "metadata": {
  "kernelspec": {
   "display_name": "Python 3 (ipykernel)",
   "language": "python",
   "name": "python3"
  },
  "language_info": {
   "codemirror_mode": {
    "name": "ipython",
    "version": 3
   },
   "file_extension": ".py",
   "mimetype": "text/x-python",
   "name": "python",
   "nbconvert_exporter": "python",
   "pygments_lexer": "ipython3",
   "version": "3.9.5"
  }
 },
 "nbformat": 4,
 "nbformat_minor": 2
}
