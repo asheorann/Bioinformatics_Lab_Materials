{
 "cells": [
  {
   "cell_type": "markdown",
   "metadata": {
    "deletable": false,
    "editable": false,
    "nbgrader": {
     "cell_type": "markdown",
     "checksum": "d6547e1ac863329e3d14386aff96c5f3",
     "grade": false,
     "grade_id": "text-lab-intro",
     "locked": true,
     "schema_version": 3,
     "solution": false,
     "task": false
    }
   },
   "source": [
    "# Lab 2: So where do all those reference genomes come from anyway? (Sequence assembly)\n",
    "\n",
    "## Part 1 (40 pts)\n",
    "\n",
    "Reminder, you can work with your classmates! And feel free to use the internet to help you.\n",
    "\n",
    "Skills covered: genome size estimation, sequence assembly, command line one-liners, managing computational resources\n",
    "\n",
    "### Intro\n",
    "\n",
    "Today, you will explore using kmer count histograms to estimate the size of a sequenced *E. coli* strain and compare your result to existing software packages for performing this task. In the next session, you will assemble the sequencing reads into a (semi) complete genome and evaluate the quality of the resulting sequence.\n",
    "\n",
    "Today we will focus on an Illumina whole genome sequencing dataset from an *E. coli* sample. The dataset has paired-end reads with an average insert size of 215.4 bp (+/- 10.6bp). Reads are 100bp each.\n",
    "\n",
    "Fastq files can be found in the `lab2` directory:\n",
    "```shell\n",
    "ls ~/public/lab2\n",
    "```\n",
    "\n",
    "You should see `shortfrag_1.fq`, `shortfrag_2.fq`, which are the files we will use today. There is an additional fastq file in that directory that we'll be looking at next lab session."
   ]
  },
  {
   "cell_type": "markdown",
   "metadata": {
    "deletable": false,
    "editable": false,
    "nbgrader": {
     "cell_type": "markdown",
     "checksum": "94edf6e7aefabee56fe84ca2cfb3b09c",
     "grade": false,
     "grade_id": "text-fastqc",
     "locked": true,
     "schema_version": 3,
     "solution": false
    }
   },
   "source": [
    "## 1. Inspecting reads with fasqtc\n",
    "\n",
    "First, open up a terminal and create a `lab2` directory in your home directory. `cd` into and work out of there for today.\n",
    "\n",
    "**Question 1 (2 pts)**: Recall from lab 1 how we used the `fastqc` tool to examine the quality of our reads as a preprocesing step. Apply `fastqc` to the two fastq files from the \"shortfrag\" dataset. Set the python string `q1_cmd` below to the exact command(s) you used to do so."
   ]
  },
  {
   "cell_type": "code",
   "execution_count": 3,
   "metadata": {
    "deletable": false,
    "nbgrader": {
     "cell_type": "code",
     "checksum": "e4b256e12fd473a2e03b874f43ffc1d9",
     "grade": false,
     "grade_id": "q1-command-answer",
     "locked": false,
     "schema_version": 3,
     "solution": true,
     "task": false
    }
   },
   "outputs": [],
   "source": [
    "q1_cmd = \"\"\"\n",
    "fastqc -o . ~/public/lab2/shortfrag_1.fq ~/public/lab2/shortfrag_2.fq \n",
    "\"\"\""
   ]
  },
  {
   "cell_type": "code",
   "execution_count": 4,
   "metadata": {
    "deletable": false,
    "editable": false,
    "nbgrader": {
     "cell_type": "code",
     "checksum": "28418eaac4e563b146d326768927e804",
     "grade": true,
     "grade_id": "q1-command-check",
     "locked": true,
     "points": 2,
     "schema_version": 3,
     "solution": false,
     "task": false
    }
   },
   "outputs": [],
   "source": [
    "\"\"\" Check the fastqc command is reasonable\"\"\"\n",
    "assert(\"shortfrag_1.fq\" in q1_cmd)\n",
    "assert(\"shortfrag_2.fq\" in q1_cmd)\n",
    "# Hidden tests perform additional basic checks"
   ]
  },
  {
   "cell_type": "markdown",
   "metadata": {
    "deletable": false,
    "editable": false,
    "nbgrader": {
     "cell_type": "markdown",
     "checksum": "a2c9b1f28c0a155518a03adf3b016dfd",
     "grade": false,
     "grade_id": "fastqc-eval",
     "locked": true,
     "schema_version": 3,
     "solution": false
    }
   },
   "source": [
    "**Question 2 (2 pts)**: Do you see any concerning things (red X's) in the fastqc output? Which of the following sections is marked as problematic? Set the variable `q2_answer` to your answer below.\n",
    "\n",
    "* A. Per-base GC content\n",
    "* B. Per-base sequence quality\n",
    "* C. Sequence length distribution\n",
    "* D. Kmer content"
   ]
  },
  {
   "cell_type": "code",
   "execution_count": 5,
   "metadata": {
    "deletable": false,
    "nbgrader": {
     "cell_type": "code",
     "checksum": "91e3263247ea974c6dbe2822de91ca6d",
     "grade": false,
     "grade_id": "q2-answer",
     "locked": false,
     "schema_version": 3,
     "solution": true,
     "task": false
    }
   },
   "outputs": [],
   "source": [
    "q2_answer = \"B\" # Set to your answer fo question 2 above (\"A\", \"B\", \"C\", or \"D\")\n",
    "# your code here\n"
   ]
  },
  {
   "cell_type": "code",
   "execution_count": 6,
   "metadata": {
    "deletable": false,
    "editable": false,
    "nbgrader": {
     "cell_type": "code",
     "checksum": "6272c2e1d369e513d2969bbd6b069ace",
     "grade": true,
     "grade_id": "q2-check",
     "locked": true,
     "points": 2,
     "schema_version": 3,
     "solution": false,
     "task": false
    }
   },
   "outputs": [],
   "source": [
    "\"\"\" Check the answer is valid\"\"\"\n",
    "assert(q2_answer in [\"A\", \"B\", \"C\", \"D\"])\n",
    "# Hidden tests check the actual answer"
   ]
  },
  {
   "cell_type": "markdown",
   "metadata": {
    "deletable": false,
    "editable": false,
    "nbgrader": {
     "cell_type": "markdown",
     "checksum": "fd2e09c8fea2cb5ec06e0da84641b1be",
     "grade": false,
     "grade_id": "text-trimming",
     "locked": true,
     "schema_version": 3,
     "solution": false
    }
   },
   "source": [
    "## 2. Trimming reads for quality control\n",
    "\n",
    "Before we move forward with genome size estimation, let's try to address the quality control issues flagged by `fastqc`. We'll be using a new tool to help with this.\n",
    "\n",
    "`sickle` is a tool for trimming low quality ends of reads. It uses a sliding window trimming algorithm, where a small window slides along the sequence, starting from one end, cutting off sequence until the average quality is above a user specified threshold, then the window keeps going until the average quality drops below that threshold, and cuts off any sequence past that point.\n",
    "\n",
    "First, to learn about `sickle`, type `sickle pe` at the command line.\n",
    "\n",
    "You can specify both the quality threshold and a length threshold, which will discard any sequences that are shorter than a certain length after trimming. The defaults for both of these values are 20. Run sickle on your data with the default settings, remembering to specify the full paths to the fastq files in the public folder. Below is an example command.\n",
    "\n",
    "```shell\n",
    "sickle pe \\\n",
    "    -f file_1.fq \\\n",
    "    -r file_2.fq \\\n",
    "    -t sanger \\\n",
    "    -o ~/lab2/shortfrag_trimmed_1.fq \\\n",
    "    -p ~/lab2/shortfrag_trimmed_2.fq \\\n",
    "    -s ~/lab2/shortfrag_singletons.fq\n",
    "```\n",
    "\n",
    "Note this command should all be on one line. To make it more readable it is broken up into multiple lines. A `\\` means the command is continued on the next line. Note the paths given above are not real and are just meant as examples. \n",
    "\n",
    "You’ll notice that there are 3 output files (`-o`, `-p`, and `-s`). The first two are the trimmed forward and reverse reads, where BOTH the forward and its matching reverse read passed the trimming filter. The singletons file contains reads where one read passed the trimming filter, but its partner did not. The reads that do not pass are not output.\n",
    "\n",
    "**Question 3 (5 pts):** Run `sickle pe` to trim the `shortfrag` library using default parameters. Be sure to write the output files (`-o`, `-p`, and `-s` files) to your `~/lab2` directory. Set the variable `q3_cmd` to the exact command you used.\n",
    "\n",
    "Your command should create output files:\n",
    "* `~/lab2/shortfrag_trimmed_1.fq` (~2.8G)\n",
    "* `~/lab2/shortfrag_trimmed_2.fq` (~2.7G)\n",
    "* `~/lab2/shortfrag_singletons.fq` (64M)\n",
    "\n",
    "This will take a couple minutes. You can go on to the next part while you wait.\n",
    "\n",
    "<blockquote>\n",
    "**UNIX TIP**: If a command is taking a long time to run, and you want to close your computer, you can use `nohup` to run it in the background. See example below:\n",
    "</blockquote>\n",
    "\n",
    "```shell\n",
    "nohup sickle pe .... &\n",
    "```\n",
    "This will write the output that would have printed to the screen to nohup.out. You can use `ls -ltrh` in the output directory to make sure the file sizes keep growing. The command should finish when the output files get to the sizes listed above."
   ]
  },
  {
   "cell_type": "code",
   "execution_count": 7,
   "metadata": {
    "deletable": false,
    "nbgrader": {
     "cell_type": "code",
     "checksum": "9f8000488a5bd3b073c47bdc9546ce64",
     "grade": false,
     "grade_id": "q3-cmd-answer",
     "locked": false,
     "schema_version": 3,
     "solution": true,
     "task": false
    }
   },
   "outputs": [],
   "source": [
    "q3_cmd = \"\"\"\n",
    "sickle pe \\\n",
    "    -f shortfrag_1.fq \\\n",
    "    -r shortfrag_2.fq \\\n",
    "    -t sanger \\\n",
    "    -o ~/lab2/shortfrag_trimmed_1.fq \\\n",
    "    -p ~/lab2/shortfrag_trimmed_2.fq \\\n",
    "    -s ~/lab2/shortfrag_singletons.fq\n",
    "\"\"\"\n",
    "# your code here"
   ]
  },
  {
   "cell_type": "code",
   "execution_count": 8,
   "metadata": {
    "deletable": false,
    "editable": false,
    "nbgrader": {
     "cell_type": "code",
     "checksum": "d404e9f387f5812074da6938c0c9678e",
     "grade": true,
     "grade_id": "q3-cmd-check-1",
     "locked": true,
     "points": 1,
     "schema_version": 3,
     "solution": false,
     "task": false
    }
   },
   "outputs": [],
   "source": [
    "\"\"\"Basic checks on the command\"\"\"\n",
    "assert(\"sickle\" in q3_cmd)\n",
    "assert(\"pe\" in q3_cmd)\n",
    "# Hidden tests perform additional checks"
   ]
  },
  {
   "cell_type": "code",
   "execution_count": 9,
   "metadata": {
    "deletable": false,
    "editable": false,
    "nbgrader": {
     "cell_type": "code",
     "checksum": "6ea4590c84d7e579953112b4e630b2f9",
     "grade": true,
     "grade_id": "q3-cmd-check-2",
     "locked": true,
     "points": 2,
     "schema_version": 3,
     "solution": false,
     "task": false
    }
   },
   "outputs": [
    {
     "data": {
      "text/plain": [
       "' Additional hidden tests'"
      ]
     },
     "execution_count": 9,
     "metadata": {},
     "output_type": "execute_result"
    }
   ],
   "source": [
    "\"\"\" Additional hidden tests\"\"\""
   ]
  },
  {
   "cell_type": "code",
   "execution_count": 10,
   "metadata": {
    "deletable": false,
    "editable": false,
    "nbgrader": {
     "cell_type": "code",
     "checksum": "14cf709874f607fbb4a0432a640d9acf",
     "grade": true,
     "grade_id": "q3-cmd-check-3",
     "locked": true,
     "points": 2,
     "schema_version": 3,
     "solution": false,
     "task": false
    }
   },
   "outputs": [
    {
     "data": {
      "text/plain": [
       "' Additional hidden tests'"
      ]
     },
     "execution_count": 10,
     "metadata": {},
     "output_type": "execute_result"
    }
   ],
   "source": [
    "\"\"\" Additional hidden tests\"\"\""
   ]
  },
  {
   "cell_type": "markdown",
   "metadata": {
    "deletable": false,
    "editable": false,
    "nbgrader": {
     "cell_type": "markdown",
     "checksum": "ebc0ee332617be5eb3c4a6dd0ba5f106",
     "grade": false,
     "grade_id": "q4-text",
     "locked": true,
     "schema_version": 3,
     "solution": false
    }
   },
   "source": [
    "**Question 4 (3 pts):** Rerun `fastqc` on the trimmed dataset. Set `q4_cmd` below to the command you used to run `fastqc` on the trimmed data.\n",
    "\n",
    "You should see that all fastqc issues are resolved after trimming. If not, ask a TA or friend before moving on to the next steps!"
   ]
  },
  {
   "cell_type": "code",
   "execution_count": 11,
   "metadata": {
    "deletable": false,
    "nbgrader": {
     "cell_type": "code",
     "checksum": "0cface1864f5233d8aff0afb2f989996",
     "grade": false,
     "grade_id": "q4-answer",
     "locked": false,
     "schema_version": 3,
     "solution": true,
     "task": false
    }
   },
   "outputs": [],
   "source": [
    "q4_cmd = \"\"\"\n",
    "fastqc -o . shortfrag_trimmed_1.fq shortfrag_trimmed_2.fq\"\"\""
   ]
  },
  {
   "cell_type": "code",
   "execution_count": 12,
   "metadata": {
    "deletable": false,
    "editable": false,
    "nbgrader": {
     "cell_type": "code",
     "checksum": "84b4d8ef07733483f8668185b8bdcd9e",
     "grade": true,
     "grade_id": "q4-check-1",
     "locked": true,
     "points": 3,
     "schema_version": 3,
     "solution": false,
     "task": false
    }
   },
   "outputs": [],
   "source": [
    "\"\"\"Basic checks on the command\"\"\"\n",
    "assert(\"fastqc\" in q4_cmd)\n",
    "assert(q4_cmd != q1_cmd)"
   ]
  },
  {
   "cell_type": "markdown",
   "metadata": {
    "deletable": false,
    "editable": false,
    "nbgrader": {
     "cell_type": "markdown",
     "checksum": "804a399e874d151eada01bf4e30aaa0b",
     "grade": false,
     "grade_id": "text-kmer-dist",
     "locked": true,
     "schema_version": 3,
     "solution": false
    }
   },
   "source": [
    "## 3. Generating and visualizing the kmer distribution\n",
    "\n",
    "We'll use the trimmed \"shortfrag\" dataset to first count k-mers in our data to generate kmer count distributions similar to in the exercises. For this purpose it's ok to only analyze the forward fragment (your trimmed version of `shortfrag_1.fq`).\n",
    "\n",
    "**Jellyfish** is a kmer counting program that will count the frequency of all possible k-mers of a given length in our data.\n",
    "\n",
    "We will use two subcommands. `jellyfish count` counts kmers and creates a hash table. \n",
    "\n",
    "* `-m` specifies the kmer length\n",
    "* `-C` tells it to ignore directionality (it treats each read the same as its reverse complement)\n",
    "* `-s` is an initial estimate for the size of the hash table jellyfish uses. Let's set to 100M (100 million).\n",
    "* `-o` specifies the name of the output file.\n",
    "\n",
    "`jellyfish histo` computes a histogram of kmer count occurrences. You can use the two tools to create a histogram file. e.g.:\n",
    "\n",
    "```shell\n",
    "jellyfish count -m 18 -C -s 100M -o output.jf input.fq\n",
    "jellyish histo output.jf > output.histo\n",
    "```\n",
    "\n",
    "Note the `>` symbol means put the output of the previous command into the specified file. If you don't use `>` it will output the results to standard output (your terminal screen).\n",
    "\n",
    "**Question 5 (3 pts):** Run `jellyfish count` on the trimmed `shortfrag_1.fq` file using a kmer size of 18. Then use `jellyfish histo` to create a histogram file. Set the variable `q5_cmds` below to the commands you used. Your commands might take a couple minutes to run."
   ]
  },
  {
   "cell_type": "code",
   "execution_count": 13,
   "metadata": {
    "deletable": false,
    "nbgrader": {
     "cell_type": "code",
     "checksum": "69dc286b83517518475f22d2787acdf9",
     "grade": false,
     "grade_id": "q5-answer",
     "locked": false,
     "schema_version": 3,
     "solution": true,
     "task": false
    }
   },
   "outputs": [],
   "source": [
    "q5_cmd = \"\"\"\n",
    "jellyfish count -m 18 -C -s 100M -o output.jf shortfrag_trimmed_1.fq\n",
    "jellyfish histo output.jf > output.histo\n",
    "\"\"\""
   ]
  },
  {
   "cell_type": "code",
   "execution_count": 14,
   "metadata": {
    "deletable": false,
    "editable": false,
    "nbgrader": {
     "cell_type": "code",
     "checksum": "cb9631949d3fd892ce1e32210b66063c",
     "grade": true,
     "grade_id": "q5-check-1",
     "locked": true,
     "points": 2,
     "schema_version": 3,
     "solution": false,
     "task": false
    }
   },
   "outputs": [],
   "source": [
    "\"\"\"Basic checks on the command\"\"\"\n",
    "assert(q5_cmd.count(\"jellyfish\")==2)\n",
    "# Hidden tests perform additional checks"
   ]
  },
  {
   "cell_type": "code",
   "execution_count": 15,
   "metadata": {
    "deletable": false,
    "editable": false,
    "nbgrader": {
     "cell_type": "code",
     "checksum": "5054b46c4222a81353f0da3852a86b05",
     "grade": true,
     "grade_id": "q5-check-2",
     "locked": true,
     "points": 1,
     "schema_version": 3,
     "solution": false,
     "task": false
    }
   },
   "outputs": [],
   "source": [
    "\"\"\"Basic checks on the command\"\"\"\n",
    "assert(\"histo\" in q5_cmd)\n",
    "# Hidden tests perform additional checks"
   ]
  },
  {
   "cell_type": "markdown",
   "metadata": {
    "deletable": false,
    "editable": false,
    "nbgrader": {
     "cell_type": "markdown",
     "checksum": "d8c373a79a2f45c1fd3ba1536041bbdb",
     "grade": false,
     "grade_id": "text-inspect-histo",
     "locked": true,
     "schema_version": 3,
     "solution": false
    }
   },
   "source": [
    "You can inspect the histogram output using the UNIX `cat` command, which we saw last week:\n",
    "\n",
    "```shell\n",
    "cat shortfrag.histo\n",
    "```\n",
    "\n",
    "You should see two columns: the first gives the number of times a kmer was seen. The second gives the number of kmers seen that many times. So, for example, the first line gives the number of kmers seen exactly once. \n",
    "\n",
    "**Question 6 (5 pts):** Complete the function `GetKmerHistogram` below to read in the histo file, compute a histogram of kmer counts, and and plot the histogram. (The x-axis represents column 1 in the `.histo` file, or number of occurrences, and the y-axis is given by column 2, or number of kmers.) Hint: you should see a big spike at 1 and a bell curve further to the right. You might want to play with the variables `max_xval` and `max_yval` to make your visualization more informative by zooming in on the most important region. Without setting those you might have some pretty extreme x- and y-value data points dominating your plot. We have set them to reasonable starting points.\n",
    "\n",
    "As we did last week, please copy the histogram file to the directory of this notebook to make sure the grader will find it."
   ]
  },
  {
   "cell_type": "code",
   "execution_count": 16,
   "metadata": {
    "deletable": false,
    "nbgrader": {
     "cell_type": "code",
     "checksum": "25924697cd7b8986cf184173ca9c294c",
     "grade": false,
     "grade_id": "correct-plot-kmer-hist",
     "locked": false,
     "schema_version": 3,
     "solution": true,
     "task": false
    }
   },
   "outputs": [
    {
     "name": "stdout",
     "output_type": "stream",
     "text": [
      "Populating the interactive namespace from numpy and matplotlib\n"
     ]
    },
    {
     "data": {
      "image/png": "[encoded data removed]",
      "text/plain": [
       "<Figure size 432x288 with 1 Axes>"
      ]
     },
     "metadata": {
      "needs_background": "light"
     },
     "output_type": "display_data"
    }
   ],
   "source": [
    "%pylab inline\n",
    "import os\n",
    "\n",
    "assert(\"shortfrag.histo\" in os.listdir(\".\"))\n",
    "\n",
    "def GetKmerHistogram(histofile, max_xval=500, max_yval=1000, plot=True):\n",
    "    \"\"\" Plot a histogram of the kmer counts\n",
    "    \n",
    "    Parameters\n",
    "    ----------\n",
    "    histofile : str\n",
    "       Path to a histogram file from jellyfish and \n",
    "    max_xval : int\n",
    "       Maximum x-axis value. If set to None, use the full data range\n",
    "    max_yval : int\n",
    "       Maximum y-axis value. If set to None, use the full data range\n",
    "    plot : bool\n",
    "       If set to False, do not output the plot.\n",
    "    Returns\n",
    "    -------\n",
    "    kmer_counts : dict[int]->int. Key=kmer count. Value=number of kmers\n",
    "       seen that many times\n",
    "    \"\"\"\n",
    "    kmer_counts = {} # Dictionary of count -> number of kmers\n",
    "    histofile = open(\"shortfrag.histo\", \"r\")\n",
    "    lines = histofile.readlines()\n",
    "    for line in lines:\n",
    "        line = line.split(' ')\n",
    "        kmer_counts[int(line[0])]=int(line[1])\n",
    "    if plot:\n",
    "        fig = plt.figure()\n",
    "        ax = fig.add_subplot(111)\n",
    "        ax.bar(kmer_counts.keys(), kmer_counts.values())\n",
    "        ax.set_xlabel(\"Count\")\n",
    "        ax.set_ylabel(\"Number of kmers\")\n",
    "        if max_xval is not None: ax.set_xlim(left=0, right=max_xval)\n",
    "        if max_yval is not None: ax.set_ylim(bottom=0, top=max_yval)\n",
    "    return kmer_counts\n",
    "\n",
    "kmer_counts = GetKmerHistogram(\"shortfrag.histo\", max_xval=400, max_yval=100000)"
   ]
  },
  {
   "cell_type": "code",
   "execution_count": 17,
   "metadata": {
    "deletable": false,
    "editable": false,
    "nbgrader": {
     "cell_type": "code",
     "checksum": "bc87ea69362666a3c048cabd77cc2b0a",
     "grade": true,
     "grade_id": "q6-check-1",
     "locked": true,
     "points": 4,
     "schema_version": 3,
     "solution": false,
     "task": false
    }
   },
   "outputs": [],
   "source": [
    "\"\"\"Basic checks on PlotKmerHistogram output\"\"\"\n",
    "kmer_counts = GetKmerHistogram(\"shortfrag.histo\", plot=False)\n",
    "assert(len(kmer_counts.keys())>2000 and len(kmer_counts.keys()) < 3000)\n",
    "assert(abs(kmer_counts[1]>kmer_counts[2]))\n",
    "assert(kmer_counts[1]/kmer_counts[500]>200000)"
   ]
  },
  {
   "cell_type": "code",
   "execution_count": 18,
   "metadata": {
    "deletable": false,
    "editable": false,
    "nbgrader": {
     "cell_type": "code",
     "checksum": "0704d97714f0bd34db02f6826c00e064",
     "grade": true,
     "grade_id": "q6-check-2",
     "locked": true,
     "points": 1,
     "schema_version": 3,
     "solution": false,
     "task": false
    }
   },
   "outputs": [
    {
     "data": {
      "text/plain": [
       "'Additional tests on PlotKmerHistogram output'"
      ]
     },
     "execution_count": 18,
     "metadata": {},
     "output_type": "execute_result"
    }
   ],
   "source": [
    "\"\"\"Additional tests on PlotKmerHistogram output\"\"\""
   ]
  },
  {
   "cell_type": "markdown",
   "metadata": {
    "deletable": false,
    "editable": false,
    "nbgrader": {
     "cell_type": "markdown",
     "checksum": "0bb6630e678bee13d667e1150181e062",
     "grade": false,
     "grade_id": "text-est-genome-size",
     "locked": true,
     "schema_version": 3,
     "solution": false
    }
   },
   "source": [
    "## 4. Estimating genome size from the kmer distribution\n",
    "\n",
    "Now we will use the kmer distribution to estimate the size of the genome of our E. coli strain. Look back to the exercises to see how we derived the formula for genome size:\n",
    "\n",
    "$$ G \\approx \\frac{\\texttt{Total num. kmers observed}}{\\texttt{Kmer coverage (M)}} $$\n",
    "\n",
    "**Question 7 (2 pts):** First, let's figure out $M$, the average kmer coverage. Recall this is the point where our kmer histogram peaks (ignoring the big spike of error kmers on the left). Figure out the peak by eyeballing the histogram and set the variable `q7_estimate` to your answer for $M$ below."
   ]
  },
  {
   "cell_type": "code",
   "execution_count": 19,
   "metadata": {
    "deletable": false,
    "nbgrader": {
     "cell_type": "code",
     "checksum": "d975f774b663071a59a44f000ba1ce8f",
     "grade": false,
     "grade_id": "q7-answer",
     "locked": false,
     "schema_version": 3,
     "solution": true,
     "task": false
    }
   },
   "outputs": [],
   "source": [
    "q7_estimate = 220 # Set to your estimate for M based on eyeballing the plot\n",
    "\n",
    "# your code here\n"
   ]
  },
  {
   "cell_type": "code",
   "execution_count": 65,
   "metadata": {
    "deletable": false,
    "editable": false,
    "nbgrader": {
     "cell_type": "code",
     "checksum": "8e51c475e638ee0b8133a8846703b725",
     "grade": true,
     "grade_id": "q7-check",
     "locked": true,
     "points": 2,
     "schema_version": 3,
     "solution": false,
     "task": false
    }
   },
   "outputs": [],
   "source": [
    "\"\"\"Basic checks on q7_estimate\"\"\"\n",
    "assert(type(q7_estimate)==int)\n",
    "assert(q7_estimate > 0 and q7_estimate < 400)\n",
    "assert(kmer_counts[q7_estimate]>kmer_counts[50] and kmer_counts[q7_estimate]>kmer_counts[300])"
   ]
  },
  {
   "cell_type": "markdown",
   "metadata": {
    "deletable": false,
    "editable": false,
    "nbgrader": {
     "cell_type": "markdown",
     "checksum": "d7bb6621939362bd55d41f7941b5e007",
     "grade": false,
     "grade_id": "q8-text",
     "locked": true,
     "schema_version": 3,
     "solution": false,
     "task": false
    }
   },
   "source": [
    "**Question 8 (3 pts):** Now complete the functions `EstimateValley` and `EstimateM` below to get a precise estimate of the first valley and peak location after removing errorenous kmers. The first valley is the point where kmer counts start increasing. The peak location ($M$) is the maximum point after the first valley. Make sure your answers look reasonably close to what you what have guessed from just looking at the plot. We'll accept a range of answers."
   ]
  },
  {
   "cell_type": "code",
   "execution_count": 33,
   "metadata": {
    "deletable": false,
    "nbgrader": {
     "cell_type": "code",
     "checksum": "036ee54769fdaff2fae2a63a3f06f51b",
     "grade": false,
     "grade_id": "q8-answer",
     "locked": false,
     "schema_version": 3,
     "solution": true
    }
   },
   "outputs": [
    {
     "name": "stdout",
     "output_type": "stream",
     "text": [
      "Estimated valley point: 27\n",
      "Estimated M: 205\n"
     ]
    }
   ],
   "source": [
    "# Check the histogram file is here\n",
    "assert(\"shortfrag.histo\" in os.listdir(\".\"))\n",
    "\n",
    "def EstimateValley(kmer_counts):\n",
    "    \"\"\" Estimate the valley position\n",
    "    \n",
    "    Parameters\n",
    "    ----------\n",
    "    kmer_counts : dict[int]->int. Key=kmer count. Value=number of kmers\n",
    "       seen that many times\n",
    "       \n",
    "    Returns\n",
    "    -------\n",
    "    valley : int\n",
    "       Position of the valley (position where kmer counts stop going down)\n",
    "    \"\"\"\n",
    "    valley = 0\n",
    "    #basicalywe see when the number starts going up\n",
    "    keyList = []\n",
    "    valueList = []\n",
    "    for key, value in kmer_counts.items():\n",
    "        keyList.append(key)\n",
    "        valueList.append(value)\n",
    "    \n",
    "    for i in range(len(valueList)-1):\n",
    "        if valueList[i]<valueList[i+1]:\n",
    "            valleyx=i\n",
    "            break\n",
    "    \n",
    "    valley = keyList[valleyx]\n",
    "    return valley\n",
    "\n",
    "def EstimateM(kmer_counts, valley_point):\n",
    "    \"\"\" Estimate the peak M (mean kmer coverage)\n",
    "    \n",
    "    Parameters\n",
    "    ----------    \n",
    "    kmer_counts : dict[int]->int. Key=kmer count. Value=number of kmers\n",
    "       seen that many times\n",
    "    valley_point : int\n",
    "       Position of the valley (position where kmer counts stop going down)\n",
    "\n",
    "    Returns\n",
    "    -------\n",
    "    est_m : int\n",
    "       Estimated peak in the kmer plot\n",
    "    \"\"\"\n",
    "    valley = 0\n",
    "    #basicalywe see when the number starts going down after its initial down\n",
    "    keyList = []\n",
    "    valueList = []\n",
    "    for key, value in kmer_counts.items():\n",
    "        keyList.append(key)\n",
    "        valueList.append(value)\n",
    "    \n",
    "    for i in range(len(valueList)-1):\n",
    "        if valueList[i]<valueList[i+1]:\n",
    "            valleyx=i\n",
    "            break\n",
    "    est_m=0\n",
    "    for i in range(valleyx+2, len(valueList)-1, 1):\n",
    "        if valueList[i]>valueList[i+19]:\n",
    "            highestx = i\n",
    "            break\n",
    "    est_m = keyList[highestx]\n",
    "    return est_m\n",
    "\n",
    "histofile = \"shortfrag.histo\"\n",
    "kmer_counts = GetKmerHistogram(\"shortfrag.histo\", plot=False)\n",
    "est_valley = EstimateValley(kmer_counts)\n",
    "est_m = EstimateM(kmer_counts, est_valley)\n",
    "\n",
    "print(\"Estimated valley point: \" + str(est_valley))\n",
    "print(\"Estimated M: \" + str(est_m))"
   ]
  },
  {
   "cell_type": "code",
   "execution_count": 34,
   "metadata": {
    "deletable": false,
    "editable": false,
    "nbgrader": {
     "cell_type": "code",
     "checksum": "46f5420104303762628c3883b6115516",
     "grade": true,
     "grade_id": "correct-kmer-functions",
     "locked": true,
     "points": 3,
     "schema_version": 3,
     "solution": false
    }
   },
   "outputs": [],
   "source": [
    "\"\"\"Check EstimateValley\"\"\"\n",
    "histofile = \"shortfrag.histo\"\n",
    "kmer_counts = GetKmerHistogram(\"shortfrag.histo\", plot=False)\n",
    "est_valley = EstimateValley(kmer_counts)\n",
    "assert(est_valley>10 and est_valley<50)\n",
    "\n",
    "\"\"\"Check EstimateM\"\"\"\n",
    "est_m = EstimateM(kmer_counts, est_valley)\n",
    "assert(est_m>200 and est_m<250)"
   ]
  },
  {
   "cell_type": "markdown",
   "metadata": {
    "deletable": false,
    "editable": false,
    "nbgrader": {
     "cell_type": "markdown",
     "checksum": "e1a796b29f12059c5376e9bca21bc7ad",
     "grade": false,
     "grade_id": "q9-text",
     "locked": true,
     "schema_version": 3,
     "solution": false
    }
   },
   "source": [
    "Now we'll estimate the total number of kmers seen. We will want to ignore kmers that are likely due to errors. Look at your histogram and estimate where the first \"valley\" is. After this point we can assume kmers seen more than that many times are not due to errors. We can estimate the total number of non-error kmers observed to the right of the first valley point. Keep in mind that for an example data point (count, num kmers), each of those kmers was seen **count** number of times. So you'll want to keep track of 50 * the number of kmers seen 50 times, plus 51 * the number of kmers seen 51 times, etc.\n",
    "\n",
    "**Question 9 (4 pts):** Complete the function `EstimateNumKmersSeen` below to output an estimate of the number of observed kmers."
   ]
  },
  {
   "cell_type": "code",
   "execution_count": 35,
   "metadata": {
    "deletable": false,
    "nbgrader": {
     "cell_type": "code",
     "checksum": "c7db30325666dd20eab659f97beb1fb1",
     "grade": false,
     "grade_id": "numkmers",
     "locked": false,
     "schema_version": 3,
     "solution": true
    }
   },
   "outputs": [
    {
     "data": {
      "text/plain": [
       "962652246"
      ]
     },
     "execution_count": 35,
     "metadata": {},
     "output_type": "execute_result"
    }
   ],
   "source": [
    "def EstimateNumKmersSeen(kmer_counts, valley_point):\n",
    "    \"\"\" Estimate the total number of kmers seen\n",
    "    \n",
    "    Parameters\n",
    "    ----------\n",
    "    kmer_counts : dict[int]->int. Key=kmer count. Value=number of kmers\n",
    "       seen that many times\n",
    "    valley_point : int\n",
    "       Position of the valley (position where kmer counts stop going down)\n",
    "\n",
    "    Returns\n",
    "    -------\n",
    "    num_total_kmers : int\n",
    "       Total number of kmers seen\n",
    "    \"\"\"\n",
    "    num_total_kmers = 0\n",
    "    #first step is to edit the dictionary such that some numbers are stripped away\n",
    "    for i in range(valley_point, 0, -1):\n",
    "        if kmer_counts[i]:\n",
    "            del kmer_counts[i]\n",
    "    \n",
    "    for key, value in kmer_counts.items():\n",
    "        num_total_kmers += key*value\n",
    "    return num_total_kmers\n",
    "\n",
    "histofile = \"shortfrag.histo\"\n",
    "kmer_counts = GetKmerHistogram(\"shortfrag.histo\", plot=False)\n",
    "est_valley = EstimateValley(kmer_counts)\n",
    "num_total_kmers = EstimateNumKmersSeen(kmer_counts, est_valley)\n",
    "num_total_kmers"
   ]
  },
  {
   "cell_type": "code",
   "execution_count": 37,
   "metadata": {
    "deletable": false,
    "editable": false,
    "nbgrader": {
     "cell_type": "code",
     "checksum": "fe466b02a5f0e501909dbd5f9e176fe6",
     "grade": true,
     "grade_id": "correct-numkmers",
     "locked": true,
     "points": 4,
     "schema_version": 3,
     "solution": false
    }
   },
   "outputs": [],
   "source": [
    "\"\"\"Check EstimateNumKmersSeen\"\"\"\n",
    "histofile = \"shortfrag.histo\"\n",
    "kmer_counts = GetKmerHistogram(\"shortfrag.histo\", plot=False)\n",
    "est_valley = EstimateValley(kmer_counts)\n",
    "num_total_kmers = EstimateNumKmersSeen(kmer_counts, est_valley)\n",
    "assert(num_total_kmers > 900000000 and num_total_kmers < 1000000000)"
   ]
  },
  {
   "cell_type": "markdown",
   "metadata": {
    "deletable": false,
    "editable": false,
    "nbgrader": {
     "cell_type": "markdown",
     "checksum": "61aaefb93f0624260bf9912c19e5cc86",
     "grade": false,
     "grade_id": "q10-text",
     "locked": true,
     "schema_version": 3,
     "solution": false
    }
   },
   "source": [
    "**Question 10: (1 pt)** Finally, use your estimates for the total number of kmers seen and for $M$ to estimate the E. coli genome size. Set the variable `q10_answer` to your answer below. (You should hopefully get something between 4-5 million bp)."
   ]
  },
  {
   "cell_type": "code",
   "execution_count": 40,
   "metadata": {
    "deletable": false,
    "nbgrader": {
     "cell_type": "code",
     "checksum": "5dcc3a496259ec9932bdc7bb25519196",
     "grade": false,
     "grade_id": "q10-answer",
     "locked": false,
     "schema_version": 3,
     "solution": true,
     "task": false
    }
   },
   "outputs": [
    {
     "data": {
      "text/plain": [
       "4695864.614634146"
      ]
     },
     "execution_count": 40,
     "metadata": {},
     "output_type": "execute_result"
    }
   ],
   "source": [
    "q10_answer = 962652246/205# Set to the estimated genome size\n",
    "q10_answer\n"
   ]
  },
  {
   "cell_type": "code",
   "execution_count": 41,
   "metadata": {
    "deletable": false,
    "editable": false,
    "nbgrader": {
     "cell_type": "code",
     "checksum": "f883ab566d9f2067d78e6633a182edd4",
     "grade": true,
     "grade_id": "q10-check",
     "locked": true,
     "points": 1,
     "schema_version": 3,
     "solution": false,
     "task": false
    }
   },
   "outputs": [],
   "source": [
    "\"\"\"Basic checks on estaimted genome size\"\"\"\n",
    "assert(q10_answer > 4000000 and q10_answer < 5000000)\n",
    "# Additional hidden tests make sure this was computed based\n",
    "# on your answers to num_total_kmers and est_m"
   ]
  },
  {
   "cell_type": "markdown",
   "metadata": {
    "deletable": false,
    "editable": false,
    "nbgrader": {
     "cell_type": "markdown",
     "checksum": "8edf3ec9c6ac47c20f4af0ff588bf5cf",
     "grade": false,
     "grade_id": "q11-text",
     "locked": true,
     "schema_version": 3,
     "solution": false
    }
   },
   "source": [
    "## 5. Estimating genome size using kmergenie\n",
    "\n",
    "Now, we'll check our answer by comparing to a tool, **kmergenie**, written to estimate genome sizes from an input set of reads. The tool takes as input a fastq file and outputs several files. We're most interested in `histograms_report.html` that gives a report of the results. Type `kmergenie` to see the usage for this tool.\n",
    "\n",
    "For the best results, we can give it all of our fastq files. `kmergenie` can take in a file with a list of fastq file paths. To make such a file and run `kmergenie` you can do:\n",
    "\n",
    "```shell\n",
    "ls shortfrag*.fq > readfiles\n",
    "```\n",
    "\n",
    "This lists all the files matching these patterns then writes them (remember the `>` symbol) to the file `readfiles`.\n",
    "\n",
    "**Question 11 (4 pts):** Run `kmergenie` on our fastq files. \n",
    "* Set the variable `q11_cmds` to the commands you used for this. \n",
    "* Look at the html output it produced (`histograms_report.html`). What did it find to be the best value for $k$? Set the variable `q11_bestk` below to your answer.\n",
    "* What did it predict the genome (assembly) size to be? Set `q11_size` below to your answer.\n",
    "\n",
    "Is your answer for `q11_size` close to your answer to question 10 above? (It should be! If not something went wrong.)"
   ]
  },
  {
   "cell_type": "code",
   "execution_count": 42,
   "metadata": {
    "deletable": false,
    "nbgrader": {
     "cell_type": "code",
     "checksum": "48ee45fcb48ecf9ca9c985c2f1363d6b",
     "grade": false,
     "grade_id": "q11-answer",
     "locked": false,
     "schema_version": 3,
     "solution": true,
     "task": false
    }
   },
   "outputs": [],
   "source": [
    "q11_cmds = \"\"\"\n",
    "kmergenie readfiles\n",
    "\"\"\"\n",
    "q11_bestk = 81 # set to the best k estimated by kmergenie\n",
    "q11_size = 4579000 # set to the genome size estimated by kmergenie\n"
   ]
  },
  {
   "cell_type": "code",
   "execution_count": 43,
   "metadata": {
    "deletable": false,
    "editable": false,
    "nbgrader": {
     "cell_type": "code",
     "checksum": "50777e6acee082485bd5d3ad994283f2",
     "grade": true,
     "grade_id": "q11-check-1",
     "locked": true,
     "points": 1,
     "schema_version": 3,
     "solution": false,
     "task": false
    }
   },
   "outputs": [],
   "source": [
    "\"\"\"Basic checks on q11_cmds\"\"\"\n",
    "assert(\"kmergenie\" in q11_cmds)"
   ]
  },
  {
   "cell_type": "code",
   "execution_count": 44,
   "metadata": {
    "deletable": false,
    "editable": false,
    "nbgrader": {
     "cell_type": "code",
     "checksum": "795c9cb4473ebef2267236f1f772614c",
     "grade": true,
     "grade_id": "q11-check-2",
     "locked": true,
     "points": 2,
     "schema_version": 3,
     "solution": false,
     "task": false
    }
   },
   "outputs": [],
   "source": [
    "\"\"\"Basic checks on q11_k\"\"\"\n",
    "assert(q11_bestk in [21, 31, 41, 51, 61, 71, 81, 91])\n",
    "# Additional hidden checks"
   ]
  },
  {
   "cell_type": "code",
   "execution_count": 45,
   "metadata": {
    "deletable": false,
    "editable": false,
    "nbgrader": {
     "cell_type": "code",
     "checksum": "b2c8ae37f8e61f5245f3bc040e022db4",
     "grade": true,
     "grade_id": "q11-check-3",
     "locked": true,
     "points": 1,
     "schema_version": 3,
     "solution": false,
     "task": false
    }
   },
   "outputs": [],
   "source": [
    "\"\"\"Basic checks on q11_size\"\"\"\n",
    "assert(type(q11_size)==int)\n",
    "assert(q11_size>4000000 and q11_size<5000000)"
   ]
  },
  {
   "cell_type": "markdown",
   "metadata": {
    "deletable": false,
    "editable": false,
    "nbgrader": {
     "cell_type": "markdown",
     "checksum": "08220645a21770c838cc804b6697b6ad",
     "grade": false,
     "grade_id": "q12-text",
     "locked": true,
     "schema_version": 3,
     "solution": false
    }
   },
   "source": [
    "## 6. Additional exercises\n",
    "\n",
    "**Question 12 (2 pts)**: Look up the reference assembly info for this E. coli strain https://www.ncbi.nlm.nih.gov/nuccore/NC_000913.3. What is the reported genome size? Set `q12_answer` below to your answer.\n",
    "\n",
    "Is your answer close to our estimate above? If not something went wrong!"
   ]
  },
  {
   "cell_type": "code",
   "execution_count": 46,
   "metadata": {
    "deletable": false,
    "nbgrader": {
     "cell_type": "code",
     "checksum": "dbedecc008af369d2f11e53939970576",
     "grade": false,
     "grade_id": "q12-answer",
     "locked": false,
     "schema_version": 3,
     "solution": true,
     "task": false
    }
   },
   "outputs": [],
   "source": [
    "q12_answer = 4641652 # Set to the size of NC_000913.3\n"
   ]
  },
  {
   "cell_type": "code",
   "execution_count": 47,
   "metadata": {
    "deletable": false,
    "editable": false,
    "nbgrader": {
     "cell_type": "code",
     "checksum": "0a74082d97d3a81e23c72a447bebbf5d",
     "grade": true,
     "grade_id": "q12-check",
     "locked": true,
     "points": 2,
     "schema_version": 3,
     "solution": false,
     "task": false
    }
   },
   "outputs": [],
   "source": [
    "\"\"\"Basic check on q12_answer\"\"\"\n",
    "assert(type(q12_answer)==int)\n",
    "assert(q12_answer > 4000000 and q12_answer < 5000000)\n",
    "# Hidden tests check actual answer"
   ]
  },
  {
   "cell_type": "markdown",
   "metadata": {
    "deletable": false,
    "editable": false,
    "nbgrader": {
     "cell_type": "markdown",
     "checksum": "07bb0f071070966e2f18a83673e29436",
     "grade": false,
     "grade_id": "q13-text",
     "locked": true,
     "schema_version": 3,
     "solution": false
    }
   },
   "source": [
    "**Question 13 (2 pts)** So far we have considered kmer histograms for a *haploid* organism (E. coli) which only has one copy of the genome. However many organisms (e.g. humans!) we will deal with are *diploid*, meaning they have two copies of the genome, which could have genetic variation from each other. For instance, if you have a heterozygous SNP, then kmers overlapping each of the two alleles will be different.\n",
    "\n",
    "How do you expect the kmer distribution to change for a diploid genome? Choose from the following answers and set `q13_answer` to your answer below.\n",
    "\n",
    "* A: There will be two bell-shaped curves. The farthest right will represent kmers without any genetic variation. The farthest left will represent kmers from regions of the genome that have variation between the two copies.\n",
    "* B: There will be a single bell-shaped curve, but the estimated value for $M$ will be twice as big since each kmer is seen twice as many times.\n",
    "* C: The kmer distribution will have a longer tail, i.e. there will be an excess of kmers seen a large number of times."
   ]
  },
  {
   "cell_type": "code",
   "execution_count": 1,
   "metadata": {
    "deletable": false,
    "nbgrader": {
     "cell_type": "code",
     "checksum": "91dd1475a33a6f93dad00702c5054ab2",
     "grade": false,
     "grade_id": "q13-answer",
     "locked": false,
     "schema_version": 3,
     "solution": true,
     "task": false
    }
   },
   "outputs": [],
   "source": [
    "q13_answer = \"A\" # Choose from the options above\n",
    "# your code here"
   ]
  },
  {
   "cell_type": "code",
   "execution_count": 49,
   "metadata": {
    "deletable": false,
    "editable": false,
    "nbgrader": {
     "cell_type": "code",
     "checksum": "cf736b1d7b445e890db54b053a548d75",
     "grade": true,
     "grade_id": "q13-check",
     "locked": true,
     "points": 2,
     "schema_version": 3,
     "solution": false,
     "task": false
    }
   },
   "outputs": [],
   "source": [
    "\"\"\"Basic check on q13_answer\"\"\"\n",
    "assert(q13_answer in [\"A\",\"B\",\"C\"])\n",
    "# Hidden tests check actual answer"
   ]
  },
  {
   "cell_type": "markdown",
   "metadata": {
    "deletable": false,
    "editable": false,
    "nbgrader": {
     "cell_type": "markdown",
     "checksum": "42621e1aa06521387141652e5a020f20",
     "grade": false,
     "grade_id": "q14-text",
     "locked": true,
     "schema_version": 3,
     "solution": false
    }
   },
   "source": [
    "**Question 14 (2 pts)**: What will the kmer count distribution look like for a genome sequenced to very low coverage? e.g. $<$5x? Choose from the following answers and set `q14_answer` to your answer below.\n",
    "\n",
    "* A: There will be an excess of kmers with large kmer counts\n",
    "* B: The peak ($M$) will be indistinguishable from the spike of error kmers at the left hand side of the graph\n",
    "* C: The peak ($M$) will be higher since there will be more total kmers observed."
   ]
  },
  {
   "cell_type": "code",
   "execution_count": 50,
   "metadata": {
    "deletable": false,
    "nbgrader": {
     "cell_type": "code",
     "checksum": "233607fca601f750d903349a54bf92ae",
     "grade": false,
     "grade_id": "q14-answer",
     "locked": false,
     "schema_version": 3,
     "solution": true,
     "task": false
    }
   },
   "outputs": [],
   "source": [
    "q14_answer = \"B\" # Choose from the options above\n",
    "# your code here"
   ]
  },
  {
   "cell_type": "code",
   "execution_count": 51,
   "metadata": {
    "deletable": false,
    "editable": false,
    "nbgrader": {
     "cell_type": "code",
     "checksum": "1a42cab68d87186d74aa51cf4ec1ec7e",
     "grade": true,
     "grade_id": "q14-check",
     "locked": true,
     "points": 2,
     "schema_version": 3,
     "solution": false,
     "task": false
    }
   },
   "outputs": [],
   "source": [
    "\"\"\"Basic check on q13_answer\"\"\"\n",
    "assert(q14_answer in [\"A\",\"B\",\"C\"])\n",
    "# Hidden tests check actual answer"
   ]
  }
 ],
 "metadata": {
  "kernelspec": {
   "display_name": "Python 3 (ipykernel)",
   "language": "python",
   "name": "python3"
  },
  "language_info": {
   "codemirror_mode": {
    "name": "ipython",
    "version": 3
   },
   "file_extension": ".py",
   "mimetype": "text/x-python",
   "name": "python",
   "nbconvert_exporter": "python",
   "pygments_lexer": "ipython3",
   "version": "3.9.5"
  }
 },
 "nbformat": 4,
 "nbformat_minor": 2
}
