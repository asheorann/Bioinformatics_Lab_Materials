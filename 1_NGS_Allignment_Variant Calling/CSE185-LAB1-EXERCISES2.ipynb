{
 "cells": [
  {
   "cell_type": "markdown",
   "metadata": {
    "deletable": false,
    "editable": false,
    "nbgrader": {
     "cell_type": "markdown",
     "checksum": "89d3d217825f4679c2f02987a6a0a337",
     "grade": false,
     "grade_id": "text-intro-ex2",
     "locked": true,
     "schema_version": 3,
     "solution": false
    }
   },
   "source": [
    "# Lab 1: next generation sequencing and mutation hunting\n",
    "\n",
    "## Exercises 2 (10 pts)\n",
    "\n",
    "Today's exercises will focus on understanding **sequencing coverage** and how to model coverage in the presence of **genetic variants** from the reference genome. We'll also get some practice with Python functions and plotting."
   ]
  },
  {
   "cell_type": "markdown",
   "metadata": {
    "deletable": false,
    "editable": false,
    "nbgrader": {
     "cell_type": "markdown",
     "checksum": "ec73604e922b288db38c17c84bbd7d51",
     "grade": false,
     "grade_id": "text-coverage",
     "locked": true,
     "schema_version": 3,
     "solution": false
    }
   },
   "source": [
    "## 1. Exploring sequencing coverage\n",
    "\n",
    "In next generation sequencing (NGS), coverage refers to the number of reads *covering* a particular base pair (bp) in the reference genome.\n",
    "\n",
    "Recall from lecture that we sequence a genome in many little chunks, called *reads*. In a typical NGS experiment, reads are around 100-150bp each. We can assume that the start position of each read is chosen randomly from the genome (although that's not always an assumption that holds. Sequencing coverage can be biased by many factors, such as GC content). We usually produce enough sequencing data such that we cover each base in the genome many times. This allows us to more accurately correct for errors and to detect **variants** from the reference genome.\n",
    "\n",
    "As a toy example, consider the following reference genome and read alignment:\n",
    "\n",
    "```\n",
    "Ref:    AACTACGTACGTACGATCAGACTG\n",
    "Read 1:      CGTACG\n",
    "Read 2:          CGTACG\n",
    "Read 3:                  CAGACT\n",
    "```\n",
    "\n",
    "The 11th position (G in the reference) is covered 2 times (often denoted as 2x). The first position (A in the reference) is covered 0 times. "
   ]
  },
  {
   "cell_type": "markdown",
   "metadata": {
    "deletable": false,
    "editable": false,
    "nbgrader": {
     "cell_type": "markdown",
     "checksum": "867b434f6ec0e6a25ee0035006c0888f",
     "grade": false,
     "grade_id": "q1-cov",
     "locked": true,
     "schema_version": 3,
     "solution": false
    }
   },
   "source": [
    "**Question 1 (2 pts):** How many times is the 13th base covered (it is an \"A\" in the reference)? Set the variable `cov` below to the correct answer."
   ]
  },
  {
   "cell_type": "code",
   "execution_count": 1,
   "metadata": {
    "deletable": false,
    "nbgrader": {
     "cell_type": "code",
     "checksum": "4853aaa6a7e53e985e7c73a040fba832",
     "grade": false,
     "grade_id": "q1-cov-answer",
     "locked": false,
     "schema_version": 3,
     "solution": true
    }
   },
   "outputs": [],
   "source": [
    "cov = 1 # Set cov to the correct answer to Question 1\n",
    "\n",
    "# your code here"
   ]
  },
  {
   "cell_type": "code",
   "execution_count": 2,
   "metadata": {
    "deletable": false,
    "editable": false,
    "nbgrader": {
     "cell_type": "code",
     "checksum": "492a5a781c2b07c75cf8f3546bb245e9",
     "grade": true,
     "grade_id": "cov-answer-test",
     "locked": true,
     "points": 2,
     "schema_version": 3,
     "solution": false
    }
   },
   "outputs": [],
   "source": [
    "# Test that the answer for coverage is reasonable. Hidden tests check the actual value.\n",
    "assert(cov in range(0, 4))\n"
   ]
  },
  {
   "cell_type": "markdown",
   "metadata": {
    "deletable": false,
    "editable": false,
    "nbgrader": {
     "cell_type": "markdown",
     "checksum": "c3b3b82d2f530d06efcc5673ace3f4e1",
     "grade": false,
     "grade_id": "text-avgcov",
     "locked": true,
     "schema_version": 3,
     "solution": false
    }
   },
   "source": [
    "We can easily compute the *average coverage*, or mean number of times each base is covered, given the read length ($l$), genome size ($G$), and number of reads ($N$) by dividing the number of total sequenced bases ($l*N$) by the total genome size ($G$): \n",
    "\n",
    "$$\\texttt{Mean Coverage} = \\frac{lN}{G}$$"
   ]
  },
  {
   "cell_type": "markdown",
   "metadata": {
    "deletable": false,
    "editable": false,
    "nbgrader": {
     "cell_type": "markdown",
     "checksum": "108ae6f1689065195743e76638052b1b",
     "grade": false,
     "grade_id": "avgcov",
     "locked": true,
     "schema_version": 3,
     "solution": false
    }
   },
   "source": [
    "**Question 2 (2 pts):** For a genome of total length 2000bp, you sequenced 100,000 reads with length 36. What is the mean coverage? Set the variable `meancov` below to the correct answer."
   ]
  },
  {
   "cell_type": "code",
   "execution_count": 1,
   "metadata": {
    "deletable": false,
    "nbgrader": {
     "cell_type": "code",
     "checksum": "628937ce15a41a0379e759b13cb2d0a7",
     "grade": false,
     "grade_id": "avgcov-answer",
     "locked": false,
     "schema_version": 3,
     "solution": true
    }
   },
   "outputs": [],
   "source": [
    "meancov = 1800 # Set meancov to the correct answer to Question 2\n",
    "\n",
    "# your code here"
   ]
  },
  {
   "cell_type": "code",
   "execution_count": 2,
   "metadata": {
    "deletable": false,
    "editable": false,
    "nbgrader": {
     "cell_type": "code",
     "checksum": "4f4a5f871722ab6b9fc7400ed530003f",
     "grade": true,
     "grade_id": "avgcov-answer-test",
     "locked": true,
     "points": 2,
     "schema_version": 3,
     "solution": false
    }
   },
   "outputs": [],
   "source": [
    "# Test that the answer for mean coverage is reasonable. Hidden tests check the actual value\n",
    "assert(meancov > 0 and meancov < 3000) # answer should be in this range\n",
    "assert(int(meancov)==meancov) # should be a nice round number\n"
   ]
  },
  {
   "cell_type": "markdown",
   "metadata": {
    "deletable": false,
    "editable": false,
    "nbgrader": {
     "cell_type": "markdown",
     "checksum": "94407e9340708afe340ab8801c2429e0",
     "grade": false,
     "grade_id": "numreads",
     "locked": true,
     "schema_version": 3,
     "solution": false
    }
   },
   "source": [
    "**Question 3 (2 pts):** You would like to sequence a human genome (3 billion bp) to mean coverage 50x. Approximately how many 100bp reads should you generate? Set the variable `numreads` below to the correct answer."
   ]
  },
  {
   "cell_type": "code",
   "execution_count": 3,
   "metadata": {
    "deletable": false,
    "nbgrader": {
     "cell_type": "code",
     "checksum": "dafdb63a0fa0890c289a8477187cc764",
     "grade": false,
     "grade_id": "numreads-answer",
     "locked": false,
     "schema_version": 3,
     "solution": true
    }
   },
   "outputs": [],
   "source": [
    "numreads = 1500000000 # Set numreads to the correct answer to Question 3\n",
    "\n"
   ]
  },
  {
   "cell_type": "code",
   "execution_count": 4,
   "metadata": {
    "deletable": false,
    "editable": false,
    "nbgrader": {
     "cell_type": "code",
     "checksum": "723dcab323d81cc9edf8dee3a3973563",
     "grade": true,
     "grade_id": "numreads-answer-test",
     "locked": true,
     "points": 2,
     "schema_version": 3,
     "solution": false
    }
   },
   "outputs": [],
   "source": [
    "# Test that the answer for number of reads is reasonable. Hidden tests check the actual value\n",
    "assert(numreads > 0 and numreads < 5000000000) # answer should be in this range\n",
    "assert(int(numreads)==numreads) # should be a nice round number\n",
    "assert(str(numreads).startswith(\"15\"))\n"
   ]
  },
  {
   "cell_type": "markdown",
   "metadata": {
    "deletable": false,
    "editable": false,
    "nbgrader": {
     "cell_type": "markdown",
     "checksum": "4fe38bb355546045abf0337bf251caab",
     "grade": false,
     "grade_id": "text-binom",
     "locked": true,
     "schema_version": 3,
     "solution": false
    }
   },
   "source": [
    "## 2. Reviewing the binomial distribution\n",
    "\n",
    "Now we will explore what our sequencing data will look like in the presence of variants from the reference genome. We'll also learn some terminology for how we talk about genetic variation. For simplicity, we will only consider simple base pair substitutions.\n",
    "\n",
    "Humans are *diploid*, meaning we have two copies of each chromosome (except X and Y). Positions in the genome that have common variants in the population are referred to as \"single nucleotide polymorphisms\", or SNPs. Nearly all SNPs are *bi-allelic*, meaning the position on any given copy of the chromosome in the population is either one of two possible base pairs (e.g. A or C). Each of these possible base pairs is called an *allele*.\n",
    "\n",
    "For example, consider a SNP with two alleles, \"C\" or \"T\". Since we are diploid, the *genotype* of a person consists of the two alleles they have on either copy. So a person's *genotype* at this SNP could be either CC, CT, or TT. We refer to genotypes where both alleles are the same (e.g. CC or TT) as *homozygous* and to genotypes with two different alleles (e.g. CT) as *heterozygous*. Since one of these is usually the allele in the reference genome (*reference allele*), we can refer to SNP genotypes as *homozygous reference*, *heterozygous*, or *homozygous non-reference*.\n",
    "\n",
    "Now let's think about what next-generation sequencing data will look like at different types of genotypes. Consider a position in the genome *covered* by $C$ reads. Each of those reads has a 50/50 chance of coming from either chromosome of an individual. For a homozygous position (e.g. genotype TT), we'd expect all of the reads covering that position to show the same base pair (T). On the other hand, for a heterozygous position (e.g. genotype CT), we'd expect about half of them to show C and and half of them to show T.\n",
    "\n",
    "The *binomial distribution* is a great way to model the number of reads with each allele at a heterozygous position. Head over to wikipedia to refresh your memory on this distribution: https://en.wikipedia.org/wiki/Binomial_distribution.\n",
    "\n",
    "In a binomial distribution, we have $N$ total \"trials\", each with probability $p$ of \"success\". Then the probability of observing $k$ \"successes\" is:\n",
    "\n",
    "$$ P(k) = {N \\choose k} p^k(1-p)^{N-k}$$\n",
    "\n",
    "Now let's adapt this to SNP calling. \n",
    "\n",
    "Let $N$ (number of trials) be the total number of reads covering a position and a \"success\" mean observing a non-reference allele. Since we observe each allele (reference vs. non-reference) with 50/50 chance, $p=0.5$. Then for a heterozygous position:\n",
    "\n",
    "$$ P(\\texttt{observe }k\\texttt{ non-reference reads} | \\texttt{het}) = {N \\choose k} 0.5^k(1-0.5)^{N-k}$$\n",
    "Simplifying:\n",
    "$$ P(\\texttt{observe }k\\texttt{ non-reference reads} | \\texttt{ het}) = {N \\choose k} 0.5^N$$\n",
    "\n",
    "And for the homozygous cases we just have:\n",
    "$$ P(\\texttt{observe }k\\texttt{ non-reference reads} | \\texttt{ hom. ref}) = \\begin{array}{c c} 1 & k=0 \\\\ 0 & k>0\\end{array}$$\n",
    "$$ P(\\texttt{observe }k\\texttt{ non-reference reads} | \\texttt{ hom. nonref}) = \\begin{array}{c c} 1 & k=N \\\\ 0 & k<N \\end{array}$$\n",
    "\n",
    "This of course gets more complicated when you consider sequencing errors. That is, even if a position is homozygous for the reference allele, you may occasionally see evidence for a different base due to an error. But let's ignore that for now.\n",
    "\n",
    "The functions below will plot the distribution of the number of reads matching the alternate allele for a SNP that is homozygous reference, heterozygous, or homozygous non-reference, for a given coverage $N$. Look through these functions and try to see how they implement the probability distributions above. If you are new to Python, you might check out [this page introducing Python functions](http://introtopython.org/introducing_functions.html). \n",
    "\n",
    "At the end of this code block, we plot the distributions of the number of reads matching the alternate allele for a SNP with C as the reference allele and T as the non-reference allele that we covered $N=10$ times:"
   ]
  },
  {
   "cell_type": "code",
   "execution_count": 5,
   "metadata": {
    "deletable": false,
    "editable": false,
    "nbgrader": {
     "cell_type": "code",
     "checksum": "5071fe0538c6984e7aa2dae3d3e288bf",
     "grade": false,
     "grade_id": "code-binom",
     "locked": true,
     "schema_version": 3,
     "solution": false
    }
   },
   "outputs": [
    {
     "name": "stdout",
     "output_type": "stream",
     "text": [
      "Populating the interactive namespace from numpy and matplotlib\n"
     ]
    },
    {
     "data": {
      "image/png": "[encoded data removed]",
      "text/plain": [
       "<Figure size 360x360 with 3 Axes>"
      ]
     },
     "metadata": {
      "needs_background": "light"
     },
     "output_type": "display_data"
    }
   ],
   "source": [
    "%pylab inline\n",
    "\n",
    "import numpy as np\n",
    "import scipy.special\n",
    "\n",
    "def GetHomRefProb(N, k):\n",
    "    \"\"\"Probability to see k non-ref reads at a homozygous ref site with N total reads\n",
    "    \n",
    "    Parameters\n",
    "    ----------\n",
    "    N : int\n",
    "       The total number of reads covering the position\n",
    "    k : int\n",
    "       The total number of reads matching the alternate allele\n",
    "       \n",
    "    Returns\n",
    "    -------\n",
    "    prob : float\n",
    "       The probability of returning k reads matching the alt allele given\n",
    "       N total sequencing reads at a genotype that is homozygous reference.\n",
    "       \n",
    "    Examples\n",
    "    --------\n",
    "    >>> GetHomRefProb(10, 0)\n",
    "    1.0\n",
    "    \"\"\"\n",
    "    if k == 0: return 1.0\n",
    "    else: return 0.0\n",
    "    \n",
    "def GetHetProb(N, k):\n",
    "    \"\"\"Probability to see k non-ref reads at a heterozygous site with N total reads\n",
    "    \n",
    "    Parameters\n",
    "    ----------\n",
    "    N : int\n",
    "       The total number of reads covering the position\n",
    "    k : int\n",
    "       The total number of reads matching the alternate allele\n",
    "       \n",
    "    Returns\n",
    "    -------\n",
    "    prob : float\n",
    "       The probability of returning k reads matching the alt allele given\n",
    "       N total sequencing reads at a genotype that is heterozygous.\n",
    "       \n",
    "    Examples\n",
    "    --------\n",
    "    >>> GetHetProb(10, 2)\n",
    "    0.0439453125\n",
    "    \"\"\"\n",
    "    return scipy.special.comb(N, k)*0.5**N\n",
    "\n",
    "def GetHomNonRefProb(N, k):\n",
    "    \"\"\"Probability to see k non-ref reads at a homozygous non-ref site with N total reads\n",
    "    \n",
    "    Parameters\n",
    "    ----------\n",
    "    N : int\n",
    "       The total number of reads covering the position\n",
    "    k : int\n",
    "       The total number of reads matching the alternate allele\n",
    "       \n",
    "    Returns\n",
    "    -------\n",
    "    prob : float\n",
    "       The probability of returning k reads matching the alt allele given\n",
    "       N total sequencing reads at a genotype that is homozygous non-reference.\n",
    "       \n",
    "    Examples\n",
    "    --------\n",
    "    >>> GetHomNonRefProb(10, 2)\n",
    "    0.0\n",
    "    \"\"\"\n",
    "    if k == N: return 1.0\n",
    "    else: return 0.0\n",
    "\n",
    "def PlotBinomSNP(N):\n",
    "    \"\"\" Plot binomial probabilities for percent of nref reads given N total reads\n",
    "\n",
    "    Parameters\n",
    "    ----------\n",
    "    N : int\n",
    "       The total number of reads covering the position\n",
    "    \"\"\"\n",
    "    kvals = range(0, N+1)\n",
    "\n",
    "    fig = plt.figure()\n",
    "    fig.set_size_inches((5, 5))\n",
    "\n",
    "    ax = fig.add_subplot(311)\n",
    "    hom_ref = [GetHomRefProb(N, k) for k in kvals]\n",
    "    ax.bar(kvals, hom_ref)\n",
    "    ax.set_title(\"Homozygous reference (CC)\")\n",
    "    ax.set_ylabel(\"Probability\")\n",
    "\n",
    "    ax = fig.add_subplot(312)\n",
    "    het = [GetHetProb(N, k) for k in kvals]\n",
    "    ax.bar(kvals, het)\n",
    "    ax.set_title(\"Heterozygous (CT)\")\n",
    "    ax.set_ylabel(\"Probability\")\n",
    "\n",
    "    ax = fig.add_subplot(313)\n",
    "    hom_nonref = [GetHomNonRefProb(N, k) for k in kvals]\n",
    "    ax.bar(kvals, hom_nonref)\n",
    "    ax.set_title(\"Homozygous non-reference (TT)\")\n",
    "    ax.set_xlabel(\"Number of reads with T observed\")\n",
    "    ax.set_ylabel(\"Probability\")\n",
    "\n",
    "    fig.tight_layout()\n",
    "    \n",
    "N = 10 # Number of reads at a position\n",
    "PlotBinomSNP(N)"
   ]
  },
  {
   "cell_type": "markdown",
   "metadata": {
    "deletable": false,
    "editable": false,
    "nbgrader": {
     "cell_type": "markdown",
     "checksum": "536aa2baa03728b2e98b5d51a90b0adc",
     "grade": false,
     "grade_id": "cell-0b9f18467190b7a6",
     "locked": true,
     "schema_version": 3,
     "solution": false
    }
   },
   "source": [
    "Take a look at these distributions and note:\n",
    "* For homozygous reference genotypes (\"CC\"), we will only see reads that have \"C\". So the probablity that we see k=0 reads with a \"T\" is 1. The probability is 0 for all other values of k.\n",
    "* For homozygous-nonreference genotypes (\"TT\"), we will see only reads that have a \"T\". So simiarly, the probablity that we see all 10 reads with a \"T\" is 1.\n",
    "* For heterozygous genotypes (CT), about half the reads will be \"C\" and half will be \"T\". Since we're sampling from the individual's genotype with each read, we sometimes won't get exactly 50/50 (k=5 reads with \"T\"), but we'll get a distribution centered on that."
   ]
  },
  {
   "cell_type": "code",
   "execution_count": 8,
   "metadata": {},
   "outputs": [
    {
     "data": {
      "image/png": "[encoded data removed]",
      "text/plain": [
       "<Figure size 360x360 with 3 Axes>"
      ]
     },
     "metadata": {
      "needs_background": "light"
     },
     "output_type": "display_data"
    }
   ],
   "source": [
    "# You can edit N below to see how this looks for different values of coverage\n",
    "N = 20 # Number of reads at a position\n",
    "PlotBinomSNP(N)"
   ]
  },
  {
   "cell_type": "markdown",
   "metadata": {
    "deletable": false,
    "editable": false,
    "nbgrader": {
     "cell_type": "markdown",
     "checksum": "daf213a0b356a323d9346e15905cd1a6",
     "grade": false,
     "grade_id": "hetprob",
     "locked": true,
     "schema_version": 3,
     "solution": false
    }
   },
   "source": [
    "**Question 4 (2 pts):** If the position is heterozygous for the reference allele (C) and another allele (T) and there are 10 reads covering it, what is the probability to see only 1 non-reference (T) read? Set the variable `prob` to your answer below. "
   ]
  },
  {
   "cell_type": "code",
   "execution_count": 9,
   "metadata": {
    "deletable": false,
    "nbgrader": {
     "cell_type": "code",
     "checksum": "45335d8ecba1f61bfd8744fbf825c89d",
     "grade": false,
     "grade_id": "prompt-hetprob",
     "locked": false,
     "schema_version": 3,
     "solution": true
    }
   },
   "outputs": [],
   "source": [
    "# Set the value of prob to the probability to see only 1 non-reference (T) read\n",
    "# Hint: use a function defined above to make sure you get the right answer\n",
    "prob = 0.5 \n",
    "# your code here"
   ]
  },
  {
   "cell_type": "code",
   "execution_count": 10,
   "metadata": {
    "deletable": false,
    "editable": false,
    "nbgrader": {
     "cell_type": "code",
     "checksum": "32f631d8934a6612d4dac3405bc121e0",
     "grade": true,
     "grade_id": "correct-hetprob",
     "locked": true,
     "points": 2,
     "schema_version": 3,
     "solution": false
    }
   },
   "outputs": [],
   "source": [
    "# Check prob was computed correctly.\n",
    "# Note, hidden tests test the actual answer\n",
    "assert(prob>=0 and prob <=1)"
   ]
  },
  {
   "cell_type": "markdown",
   "metadata": {
    "deletable": false,
    "editable": false,
    "nbgrader": {
     "cell_type": "markdown",
     "checksum": "5588db648ecf7ab270974368d58f6bec",
     "grade": false,
     "grade_id": "covhet",
     "locked": true,
     "schema_version": 3,
     "solution": false
    }
   },
   "source": [
    "**Question 5 (2 pts):** Generate plots similar to above except with N=50 reads (you can do this in the cell above that contains the comment \"You can edit N below...\"). Try again with only N=3 reads. Try some more values for N.\n",
    "\n",
    "At which coverage (N) will it be easiest to distinguish heterozygous vs. homozygous SNPs? \n",
    "\n",
    "* A. 10\n",
    "* B. 3\n",
    "* C. 100\n",
    "\n",
    "Set the variable `bestcov_answer` below to your answer."
   ]
  },
  {
   "cell_type": "code",
   "execution_count": 12,
   "metadata": {
    "deletable": false,
    "nbgrader": {
     "cell_type": "code",
     "checksum": "1b53b721d2eff153cff4641704cf264f",
     "grade": false,
     "grade_id": "covhet-answer",
     "locked": false,
     "schema_version": 3,
     "solution": true
    }
   },
   "outputs": [],
   "source": [
    "bestcov_answer = 'C' # set to either 'A', 'B', or 'C'\n",
    "\n",
    "# your code here"
   ]
  },
  {
   "cell_type": "code",
   "execution_count": 13,
   "metadata": {
    "deletable": false,
    "editable": false,
    "nbgrader": {
     "cell_type": "code",
     "checksum": "11a08060355c4b6763c5dddaf8c00c89",
     "grade": true,
     "grade_id": "covhet-answer-test",
     "locked": true,
     "points": 2,
     "schema_version": 3,
     "solution": false
    }
   },
   "outputs": [],
   "source": [
    "# Test the value of bestcov_answer. Hidden tests check the actual value\n",
    "assert(bestcov_answer in ['A','B','C','D'])\n"
   ]
  }
 ],
 "metadata": {
  "kernelspec": {
   "display_name": "Python 3 (ipykernel)",
   "language": "python",
   "name": "python3"
  },
  "language_info": {
   "codemirror_mode": {
    "name": "ipython",
    "version": 3
   },
   "file_extension": ".py",
   "mimetype": "text/x-python",
   "name": "python",
   "nbconvert_exporter": "python",
   "pygments_lexer": "ipython3",
   "version": "3.9.5"
  }
 },
 "nbformat": 4,
 "nbformat_minor": 4
}
